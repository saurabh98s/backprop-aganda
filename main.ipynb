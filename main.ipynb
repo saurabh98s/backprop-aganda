{
 "cells": [
  {
   "cell_type": "markdown",
   "metadata": {},
   "source": [
    "### Creating micrograd for back propagation and tracing a equation through its values\n"
   ]
  },
  {
   "cell_type": "code",
   "execution_count": 1,
   "metadata": {},
   "outputs": [
    {
     "name": "stdout",
     "output_type": "stream",
     "text": [
      "Note: you may need to restart the kernel to use updated packages.\n"
     ]
    },
    {
     "name": "stderr",
     "output_type": "stream",
     "text": [
      "ERROR: Invalid requirement: '#'\n",
      "\n",
      "[notice] A new release of pip is available: 23.2.1 -> 24.2\n",
      "[notice] To update, run: python.exe -m pip install --upgrade pip\n"
     ]
    }
   ],
   "source": [
    "pip install numpy matplotlib # type: ignore"
   ]
  },
  {
   "cell_type": "code",
   "execution_count": 2,
   "metadata": {},
   "outputs": [],
   "source": [
    "import math\n",
    "import numpy as np\n",
    "import matplotlib.pyplot as plt\n",
    "%matplotlib inline\n",
    "\n"
   ]
  },
  {
   "cell_type": "code",
   "execution_count": 3,
   "metadata": {},
   "outputs": [],
   "source": [
    "def f(x): #this is going to be an example of a function that takes in x and returns y as a result of a function\n",
    "    return (4*x**2)- 3*x+5"
   ]
  },
  {
   "cell_type": "code",
   "execution_count": 4,
   "metadata": {},
   "outputs": [
    {
     "data": {
      "text/plain": [
       "32.0"
      ]
     },
     "execution_count": 4,
     "metadata": {},
     "output_type": "execute_result"
    }
   ],
   "source": [
    "f(3.0) "
   ]
  },
  {
   "cell_type": "code",
   "execution_count": 5,
   "metadata": {},
   "outputs": [
    {
     "data": {
      "text/plain": [
       "array([120. , 109.5,  99.5,  90. ,  81. ,  72.5,  64.5,  57. ,  50. ,\n",
       "        43.5,  37.5,  32. ,  27. ,  22.5,  18.5,  15. ,  12. ,   9.5,\n",
       "         7.5,   6. ,   5. ,   4.5,   4.5,   5. ,   6. ,   7.5,   9.5,\n",
       "        12. ,  15. ,  18.5,  22.5,  27. ,  32. ,  37.5,  43.5,  50. ,\n",
       "        57. ,  64.5,  72.5,  81. ])"
      ]
     },
     "execution_count": 5,
     "metadata": {},
     "output_type": "execute_result"
    }
   ],
   "source": [
    "a_few_x = np.arange(-5,5,0.25) #this will generate a few values for x using numpy and set the range from -5 to 5 with 0.25 step up\n",
    "# a_few_x\n",
    "a_few_y = f(a_few_x)\n",
    "a_few_y"
   ]
  },
  {
   "cell_type": "code",
   "execution_count": 6,
   "metadata": {},
   "outputs": [
    {
     "data": {
      "text/plain": [
       "[<matplotlib.lines.Line2D at 0x15f3d6b76d0>]"
      ]
     },
     "execution_count": 6,
     "metadata": {},
     "output_type": "execute_result"
    },
    {
     "data": {
      "image/png": "[encoded data removed]",
      "text/plain": [
       "<Figure size 640x480 with 1 Axes>"
      ]
     },
     "metadata": {},
     "output_type": "display_data"
    }
   ],
   "source": [
    "plt.plot(a_few_x,a_few_y) #plotting the graph of an quadratic eqn."
   ]
  },
  {
   "cell_type": "code",
   "execution_count": 7,
   "metadata": {},
   "outputs": [
    {
     "name": "stdout",
     "output_type": "stream",
     "text": [
      "32.000000000000014\n"
     ]
    },
    {
     "data": {
      "text/plain": [
       "14.210854715202002"
      ]
     },
     "execution_count": 7,
     "metadata": {},
     "output_type": "execute_result"
    }
   ],
   "source": [
    "h = 0.000000000000001\n",
    "x= 3\n",
    "print(f(x+h))\n",
    "(f(x+h) -f(x))/h #derivative calculation"
   ]
  },
  {
   "cell_type": "code",
   "execution_count": 8,
   "metadata": {},
   "outputs": [
    {
     "data": {
      "text/plain": [
       "4.0"
      ]
     },
     "execution_count": 8,
     "metadata": {},
     "output_type": "execute_result"
    }
   ],
   "source": [
    "a = 2.0\n",
    "b = -3.0\n",
    "c = 10.0\n",
    "d= a*b+c\n",
    "d  "
   ]
  },
  {
   "cell_type": "code",
   "execution_count": 9,
   "metadata": {},
   "outputs": [
    {
     "name": "stdout",
     "output_type": "stream",
     "text": [
      "d1 4.0\n",
      "d2 4.00001\n",
      "slope 0.9999999999621422\n"
     ]
    }
   ],
   "source": [
    "h = 0.00001\n",
    "a = 2.0\n",
    "b = -3.0\n",
    "c = 10.0\n",
    "d1= a*b+c\n",
    "c= c+h\n",
    "d2 = a*b + c\n",
    "print(\"d1\",d1)\n",
    "print(\"d2\",d2)\n",
    "print(\"slope\",(d2-d1)/h)"
   ]
  },
  {
   "cell_type": "markdown",
   "metadata": {},
   "source": [
    "## Now we will write the value object for micrograd"
   ]
  },
  {
   "cell_type": "code",
   "execution_count": 76,
   "metadata": {},
   "outputs": [],
   "source": [
    "class Value:\n",
    "    def __init__(self,data,_children= (),_op='',label=''):\n",
    "        self._backward = lambda:None\n",
    "        self.data = data\n",
    "        self.grad = 0.0 # 0 denotes change in the value doesn't affect the loss function\n",
    "        self._prev = set(_children)\n",
    "        self._op = _op\n",
    "        self.label = label\n",
    "    def __repr__(self):\n",
    "        return f\"Value(data={self.data})\"\n",
    "    def __neg__(self):\n",
    "        return self * -1\n",
    "    def __sub__(self,other):\n",
    "        return self + (-other)\n",
    "    def __add__(self,other):\n",
    "        other = other if isinstance(other,Value) else Value(other)\n",
    "        out = Value(self.data + other.data,(self,other),'+')\n",
    "            \n",
    "        #_backward() takes out's grad and then we propagate it to self's grad and then the other's grad \n",
    "        def _backward():\n",
    "            self.grad += 1.0 *out.grad\n",
    "            other.grad += 1.0 *out.grad\n",
    "                 \n",
    "        out._backward = _backward\n",
    "        return out\n",
    "    def __mul__(self,other):\n",
    "        other = other if isinstance(other,Value) else Value(other)\n",
    "        out = Value(self.data * other.data,(self,other),'*')\n",
    "        def _backward():\n",
    "            self.grad += other.data *out.grad\n",
    "            other.grad += self.data *out.grad\n",
    "                 \n",
    "        out._backward = _backward\n",
    "        return out\n",
    "    def __truediv__(self,other):\n",
    "        return self * other **-1\n",
    "    def __pow__(self,other):\n",
    "        assert isinstance(other,(int,float)),\"only supports int or float for now\"\n",
    "        out = Value(self.data** other,(self,),f'**{other}')\n",
    "        def _backward():\n",
    "            self.grad += other * self.data ** (other-1) * out.grad\n",
    "        out._backward = _backward\n",
    "        return out\n",
    "        \n",
    "    def __rmul__(self,other):\n",
    "        return self *other\n",
    "        \n",
    "    def tanh(self):\n",
    "        x = self.data\n",
    "        t = (math.exp(2*x)-1)/(math.exp(2*x)+1)\n",
    "        out = Value(t,(self,),'tanh')\n",
    "        \n",
    "        def _backward():\n",
    "            self.grad += (1- t**2) * out.grad\n",
    "        out._backward = _backward\n",
    "        return out\n",
    "    def exp(self):\n",
    "        x = self.data\n",
    "        out = Value(math.exp(x),(self,),'exp')\n",
    "        \n",
    "        def _backward():\n",
    "            self.grad += out.data* out.grad\n",
    "        out._backward = _backward\n",
    "        return out\n",
    "    def backward(self):\n",
    "        ## FYI we recalled the draw_dot() ,method everytime in above _backward steps\n",
    "        #its time to get rid of the manual calling by doing a topological sort\n",
    "\n",
    "        topo = []\n",
    "        visited = set()\n",
    "        def build_topo(v):\n",
    "            if v not in visited:\n",
    "                visited.add(v)\n",
    "                for child in v._prev:\n",
    "                    build_topo(child)\n",
    "                topo.append(v)\n",
    "        build_topo(self)\n",
    "        self.grad = 1.0\n",
    "        for node in reversed(topo):\n",
    "            node._backward()"
   ]
  },
  {
   "cell_type": "code",
   "execution_count": 48,
   "metadata": {},
   "outputs": [
    {
     "data": {
      "text/plain": [
       "Value(data=-2.0)"
      ]
     },
     "execution_count": 48,
     "metadata": {},
     "output_type": "execute_result"
    }
   ],
   "source": [
    "a = Value(2.0,label='a')\n",
    "b = Value(4.0,label='b')\n",
    "e = a*b\n",
    "e.label = 'e'\n",
    "c = Value(10.0,label='c')\n",
    "d= e + c\n",
    "d.label = 'd'\n",
    "f = Value(-2.0,label='f')\n",
    "L = d*f\n",
    "L.label= 'L'\n",
    "L\n",
    "a*2 *2\n",
    "a.exp()\n",
    "a/b\n",
    "a-b"
   ]
  },
  {
   "cell_type": "markdown",
   "metadata": {},
   "source": [
    "### visualizing the graph between values"
   ]
  },
  {
   "cell_type": "code",
   "execution_count": 12,
   "metadata": {},
   "outputs": [
    {
     "name": "stdout",
     "output_type": "stream",
     "text": [
      "Note: you may need to restart the kernel to use updated packages.\n"
     ]
    },
    {
     "name": "stderr",
     "output_type": "stream",
     "text": [
      "ERROR: Invalid requirement: '#'\n",
      "\n",
      "[notice] A new release of pip is available: 23.2.1 -> 24.2\n",
      "[notice] To update, run: python.exe -m pip install --upgrade pip\n"
     ]
    }
   ],
   "source": [
    "pip install graphviz # type: ignore"
   ]
  },
  {
   "cell_type": "code",
   "execution_count": 13,
   "metadata": {},
   "outputs": [],
   "source": [
    "from graphviz import Digraph\n",
    "\n",
    "def trace(root):\n",
    "    nodes,edge = set(),set()\n",
    "    def build(v):\n",
    "        if v not in nodes:\n",
    "            nodes.add(v)\n",
    "            for child in v._prev:\n",
    "                edge.add((child,v))\n",
    "                build(child)\n",
    "    build(root)\n",
    "    return nodes,edge\n",
    "\n",
    "def draw_dot(root):\n",
    "    dot = Digraph(format=\"svg\",graph_attr={'rankdir': 'LR'}) #this would mean left to right \n",
    "    nodes,edges = trace(root)\n",
    "    for n in nodes:\n",
    "        uid = str(id(n))\n",
    "        dot.node(name=uid,label=\"{%s | data %.4f |  grad %.4f }\"  % (n.label,n.data,n.grad), shape='record') \n",
    "        if n._op:\n",
    "            dot.node(name=uid+n._op,label=n._op)\n",
    "            dot.edge(uid +n._op,uid)\n",
    "    for n1,n2 in edges:\n",
    "        dot.edge(str(id(n1)),str(id(n2)) +n2._op)\n",
    "    return dot   "
   ]
  },
  {
   "cell_type": "code",
   "execution_count": 14,
   "metadata": {},
   "outputs": [
    {
     "data": {
      "image/svg+xml": [
       "<?xml version=\"1.0\" encoding=\"UTF-8\" standalone=\"no\"?>\n",
       "<!DOCTYPE svg PUBLIC \"-//W3C//DTD SVG 1.1//EN\"\n",
       " \"http://www.w3.org/Graphics/SVG/1.1/DTD/svg11.dtd\">\n",
       "<!-- Generated by graphviz version 12.1.0 (20240811.2233)\n",
       " -->\n",
       "<!-- Pages: 1 -->\n",
       "<svg width=\"1140pt\" height=\"128pt\"\n",
       " viewBox=\"0.00 0.00 1139.75 128.00\" xmlns=\"http://www.w3.org/2000/svg\" xmlns:xlink=\"http://www.w3.org/1999/xlink\">\n",
       "<g id=\"graph0\" class=\"graph\" transform=\"scale(1 1) rotate(0) translate(4 124)\">\n",
       "<polygon fill=\"white\" stroke=\"none\" points=\"-4,4 -4,-124 1135.75,-124 1135.75,4 -4,4\"/>\n",
       "<!-- 1508563373648 -->\n",
       "<g id=\"node1\" class=\"node\">\n",
       "<title>1508563373648</title>\n",
       "<polygon fill=\"none\" stroke=\"black\" points=\"942,-27.5 942,-63.5 1131.75,-63.5 1131.75,-27.5 942,-27.5\"/>\n",
       "<text text-anchor=\"middle\" x=\"954.12\" y=\"-40.7\" font-family=\"Times New Roman,serif\" font-size=\"14.00\">L</text>\n",
       "<polyline fill=\"none\" stroke=\"black\" points=\"966.25,-28 966.25,-63.5\"/>\n",
       "<text text-anchor=\"middle\" x=\"1008.38\" y=\"-40.7\" font-family=\"Times New Roman,serif\" font-size=\"14.00\">data &#45;8.0000</text>\n",
       "<polyline fill=\"none\" stroke=\"black\" points=\"1050.5,-28 1050.5,-63.5\"/>\n",
       "<text text-anchor=\"middle\" x=\"1091.12\" y=\"-40.7\" font-family=\"Times New Roman,serif\" font-size=\"14.00\">grad 0.0000</text>\n",
       "</g>\n",
       "<!-- 1508563373648* -->\n",
       "<g id=\"node2\" class=\"node\">\n",
       "<title>1508563373648*</title>\n",
       "<ellipse fill=\"none\" stroke=\"black\" cx=\"879\" cy=\"-45.5\" rx=\"27\" ry=\"18\"/>\n",
       "<text text-anchor=\"middle\" x=\"879\" y=\"-40.45\" font-family=\"Times New Roman,serif\" font-size=\"14.00\">*</text>\n",
       "</g>\n",
       "<!-- 1508563373648*&#45;&gt;1508563373648 -->\n",
       "<g id=\"edge1\" class=\"edge\">\n",
       "<title>1508563373648*&#45;&gt;1508563373648</title>\n",
       "<path fill=\"none\" stroke=\"black\" d=\"M906.44,-45.5C913.59,-45.5 921.78,-45.5 930.49,-45.5\"/>\n",
       "<polygon fill=\"black\" stroke=\"black\" points=\"930.26,-49 940.26,-45.5 930.26,-42 930.26,-49\"/>\n",
       "</g>\n",
       "<!-- 1508563898000 -->\n",
       "<g id=\"node3\" class=\"node\">\n",
       "<title>1508563898000</title>\n",
       "<polygon fill=\"none\" stroke=\"black\" points=\"2.62,-56.5 2.62,-92.5 185.62,-92.5 185.62,-56.5 2.62,-56.5\"/>\n",
       "<text text-anchor=\"middle\" x=\"13.62\" y=\"-69.7\" font-family=\"Times New Roman,serif\" font-size=\"14.00\">a</text>\n",
       "<polyline fill=\"none\" stroke=\"black\" points=\"24.62,-57 24.62,-92.5\"/>\n",
       "<text text-anchor=\"middle\" x=\"64.5\" y=\"-69.7\" font-family=\"Times New Roman,serif\" font-size=\"14.00\">data 2.0000</text>\n",
       "<polyline fill=\"none\" stroke=\"black\" points=\"104.38,-57 104.38,-92.5\"/>\n",
       "<text text-anchor=\"middle\" x=\"145\" y=\"-69.7\" font-family=\"Times New Roman,serif\" font-size=\"14.00\">grad 0.0000</text>\n",
       "</g>\n",
       "<!-- 1508564330384* -->\n",
       "<g id=\"node6\" class=\"node\">\n",
       "<title>1508564330384*</title>\n",
       "<ellipse fill=\"none\" stroke=\"black\" cx=\"251.25\" cy=\"-46.5\" rx=\"27\" ry=\"18\"/>\n",
       "<text text-anchor=\"middle\" x=\"251.25\" y=\"-41.45\" font-family=\"Times New Roman,serif\" font-size=\"14.00\">*</text>\n",
       "</g>\n",
       "<!-- 1508563898000&#45;&gt;1508564330384* -->\n",
       "<g id=\"edge8\" class=\"edge\">\n",
       "<title>1508563898000&#45;&gt;1508564330384*</title>\n",
       "<path fill=\"none\" stroke=\"black\" d=\"M185.81,-58.13C195.66,-56.35 205.21,-54.63 213.82,-53.08\"/>\n",
       "<polygon fill=\"black\" stroke=\"black\" points=\"214.19,-56.57 223.41,-51.34 212.95,-49.68 214.19,-56.57\"/>\n",
       "</g>\n",
       "<!-- 1508564326096 -->\n",
       "<g id=\"node4\" class=\"node\">\n",
       "<title>1508564326096</title>\n",
       "<polygon fill=\"none\" stroke=\"black\" points=\"314.25,-83.5 314.25,-119.5 504,-119.5 504,-83.5 314.25,-83.5\"/>\n",
       "<text text-anchor=\"middle\" x=\"325.25\" y=\"-96.7\" font-family=\"Times New Roman,serif\" font-size=\"14.00\">c</text>\n",
       "<polyline fill=\"none\" stroke=\"black\" points=\"336.25,-84 336.25,-119.5\"/>\n",
       "<text text-anchor=\"middle\" x=\"379.5\" y=\"-96.7\" font-family=\"Times New Roman,serif\" font-size=\"14.00\">data 10.0000</text>\n",
       "<polyline fill=\"none\" stroke=\"black\" points=\"422.75,-84 422.75,-119.5\"/>\n",
       "<text text-anchor=\"middle\" x=\"463.38\" y=\"-96.7\" font-family=\"Times New Roman,serif\" font-size=\"14.00\">grad 0.0000</text>\n",
       "</g>\n",
       "<!-- 1508564336528+ -->\n",
       "<g id=\"node9\" class=\"node\">\n",
       "<title>1508564336528+</title>\n",
       "<ellipse fill=\"none\" stroke=\"black\" cx=\"567\" cy=\"-73.5\" rx=\"27\" ry=\"18\"/>\n",
       "<text text-anchor=\"middle\" x=\"567\" y=\"-68.45\" font-family=\"Times New Roman,serif\" font-size=\"14.00\">+</text>\n",
       "</g>\n",
       "<!-- 1508564326096&#45;&gt;1508564336528+ -->\n",
       "<g id=\"edge7\" class=\"edge\">\n",
       "<title>1508564326096&#45;&gt;1508564336528+</title>\n",
       "<path fill=\"none\" stroke=\"black\" d=\"M504.39,-84.57C513.16,-82.99 521.65,-81.47 529.37,-80.08\"/>\n",
       "<polygon fill=\"black\" stroke=\"black\" points=\"529.73,-83.57 538.95,-78.36 528.49,-76.68 529.73,-83.57\"/>\n",
       "</g>\n",
       "<!-- 1508564330384 -->\n",
       "<g id=\"node5\" class=\"node\">\n",
       "<title>1508564330384</title>\n",
       "<polygon fill=\"none\" stroke=\"black\" points=\"315.38,-28.5 315.38,-64.5 502.88,-64.5 502.88,-28.5 315.38,-28.5\"/>\n",
       "<text text-anchor=\"middle\" x=\"326.38\" y=\"-41.7\" font-family=\"Times New Roman,serif\" font-size=\"14.00\">e</text>\n",
       "<polyline fill=\"none\" stroke=\"black\" points=\"337.38,-29 337.38,-64.5\"/>\n",
       "<text text-anchor=\"middle\" x=\"379.5\" y=\"-41.7\" font-family=\"Times New Roman,serif\" font-size=\"14.00\">data &#45;6.0000</text>\n",
       "<polyline fill=\"none\" stroke=\"black\" points=\"421.62,-29 421.62,-64.5\"/>\n",
       "<text text-anchor=\"middle\" x=\"462.25\" y=\"-41.7\" font-family=\"Times New Roman,serif\" font-size=\"14.00\">grad 0.0000</text>\n",
       "</g>\n",
       "<!-- 1508564330384&#45;&gt;1508564336528+ -->\n",
       "<g id=\"edge6\" class=\"edge\">\n",
       "<title>1508564330384&#45;&gt;1508564336528+</title>\n",
       "<path fill=\"none\" stroke=\"black\" d=\"M503.05,-62.6C512.25,-64.19 521.16,-65.73 529.24,-67.13\"/>\n",
       "<polygon fill=\"black\" stroke=\"black\" points=\"528.48,-70.55 538.93,-68.81 529.68,-63.66 528.48,-70.55\"/>\n",
       "</g>\n",
       "<!-- 1508564330384*&#45;&gt;1508564330384 -->\n",
       "<g id=\"edge2\" class=\"edge\">\n",
       "<title>1508564330384*&#45;&gt;1508564330384</title>\n",
       "<path fill=\"none\" stroke=\"black\" d=\"M278.69,-46.5C286.1,-46.5 294.64,-46.5 303.71,-46.5\"/>\n",
       "<polygon fill=\"black\" stroke=\"black\" points=\"303.51,-50 313.51,-46.5 303.51,-43 303.51,-50\"/>\n",
       "</g>\n",
       "<!-- 1508564331280 -->\n",
       "<g id=\"node7\" class=\"node\">\n",
       "<title>1508564331280</title>\n",
       "<polygon fill=\"none\" stroke=\"black\" points=\"0,-1.5 0,-37.5 188.25,-37.5 188.25,-1.5 0,-1.5\"/>\n",
       "<text text-anchor=\"middle\" x=\"11.38\" y=\"-14.7\" font-family=\"Times New Roman,serif\" font-size=\"14.00\">b</text>\n",
       "<polyline fill=\"none\" stroke=\"black\" points=\"22.75,-2 22.75,-37.5\"/>\n",
       "<text text-anchor=\"middle\" x=\"64.88\" y=\"-14.7\" font-family=\"Times New Roman,serif\" font-size=\"14.00\">data &#45;3.0000</text>\n",
       "<polyline fill=\"none\" stroke=\"black\" points=\"107,-2 107,-37.5\"/>\n",
       "<text text-anchor=\"middle\" x=\"147.62\" y=\"-14.7\" font-family=\"Times New Roman,serif\" font-size=\"14.00\">grad 0.0000</text>\n",
       "</g>\n",
       "<!-- 1508564331280&#45;&gt;1508564330384* -->\n",
       "<g id=\"edge9\" class=\"edge\">\n",
       "<title>1508564331280&#45;&gt;1508564330384*</title>\n",
       "<path fill=\"none\" stroke=\"black\" d=\"M188.49,-35.75C197.27,-37.28 205.77,-38.76 213.51,-40.1\"/>\n",
       "<polygon fill=\"black\" stroke=\"black\" points=\"212.66,-43.51 223.11,-41.78 213.86,-36.61 212.66,-43.51\"/>\n",
       "</g>\n",
       "<!-- 1508564336528 -->\n",
       "<g id=\"node8\" class=\"node\">\n",
       "<title>1508564336528</title>\n",
       "<polygon fill=\"none\" stroke=\"black\" points=\"631.12,-55.5 631.12,-91.5 814.88,-91.5 814.88,-55.5 631.12,-55.5\"/>\n",
       "<text text-anchor=\"middle\" x=\"642.5\" y=\"-68.7\" font-family=\"Times New Roman,serif\" font-size=\"14.00\">d</text>\n",
       "<polyline fill=\"none\" stroke=\"black\" points=\"653.88,-56 653.88,-91.5\"/>\n",
       "<text text-anchor=\"middle\" x=\"693.75\" y=\"-68.7\" font-family=\"Times New Roman,serif\" font-size=\"14.00\">data 4.0000</text>\n",
       "<polyline fill=\"none\" stroke=\"black\" points=\"733.62,-56 733.62,-91.5\"/>\n",
       "<text text-anchor=\"middle\" x=\"774.25\" y=\"-68.7\" font-family=\"Times New Roman,serif\" font-size=\"14.00\">grad 0.0000</text>\n",
       "</g>\n",
       "<!-- 1508564336528&#45;&gt;1508563373648* -->\n",
       "<g id=\"edge5\" class=\"edge\">\n",
       "<title>1508564336528&#45;&gt;1508563373648*</title>\n",
       "<path fill=\"none\" stroke=\"black\" d=\"M815.36,-56.89C824.5,-55.23 833.36,-53.62 841.4,-52.15\"/>\n",
       "<polygon fill=\"black\" stroke=\"black\" points=\"841.83,-55.63 851.04,-50.4 840.57,-48.75 841.83,-55.63\"/>\n",
       "</g>\n",
       "<!-- 1508564336528+&#45;&gt;1508564336528 -->\n",
       "<g id=\"edge3\" class=\"edge\">\n",
       "<title>1508564336528+&#45;&gt;1508564336528</title>\n",
       "<path fill=\"none\" stroke=\"black\" d=\"M594.47,-73.5C601.87,-73.5 610.38,-73.5 619.43,-73.5\"/>\n",
       "<polygon fill=\"black\" stroke=\"black\" points=\"619.17,-77 629.17,-73.5 619.17,-70 619.17,-77\"/>\n",
       "</g>\n",
       "<!-- 1508564364240 -->\n",
       "<g id=\"node10\" class=\"node\">\n",
       "<title>1508564364240</title>\n",
       "<polygon fill=\"none\" stroke=\"black\" points=\"630,-0.5 630,-36.5 816,-36.5 816,-0.5 630,-0.5\"/>\n",
       "<text text-anchor=\"middle\" x=\"640.25\" y=\"-13.7\" font-family=\"Times New Roman,serif\" font-size=\"14.00\">f</text>\n",
       "<polyline fill=\"none\" stroke=\"black\" points=\"650.5,-1 650.5,-36.5\"/>\n",
       "<text text-anchor=\"middle\" x=\"692.62\" y=\"-13.7\" font-family=\"Times New Roman,serif\" font-size=\"14.00\">data &#45;2.0000</text>\n",
       "<polyline fill=\"none\" stroke=\"black\" points=\"734.75,-1 734.75,-36.5\"/>\n",
       "<text text-anchor=\"middle\" x=\"775.38\" y=\"-13.7\" font-family=\"Times New Roman,serif\" font-size=\"14.00\">grad 0.0000</text>\n",
       "</g>\n",
       "<!-- 1508564364240&#45;&gt;1508563373648* -->\n",
       "<g id=\"edge4\" class=\"edge\">\n",
       "<title>1508564364240&#45;&gt;1508563373648*</title>\n",
       "<path fill=\"none\" stroke=\"black\" d=\"M816.25,-34.67C825.01,-36.21 833.5,-37.7 841.24,-39.05\"/>\n",
       "<polygon fill=\"black\" stroke=\"black\" points=\"840.39,-42.46 850.84,-40.74 841.6,-35.56 840.39,-42.46\"/>\n",
       "</g>\n",
       "</g>\n",
       "</svg>\n"
      ],
      "text/plain": [
       "<graphviz.graphs.Digraph at 0x15f3d775f90>"
      ]
     },
     "execution_count": 14,
     "metadata": {},
     "output_type": "execute_result"
    }
   ],
   "source": [
    "draw_dot(L)"
   ]
  },
  {
   "cell_type": "markdown",
   "metadata": {},
   "source": [
    "now we need to do \n",
    "L = d*f\n",
    "so we get \n",
    "dL/dd = f\n",
    "how did we get this:\n",
    "(f(x+h) - f(x))/h\n",
    "now \n",
    "((d+h) *f - d*f)/h\n",
    "(df +hf - df) / h\n",
    "df cancells out\n",
    "we get\n",
    "hf/h\n",
    "so f"
   ]
  },
  {
   "cell_type": "markdown",
   "metadata": {},
   "source": [
    "so dl/df = d and dl/dd = f"
   ]
  },
  {
   "cell_type": "code",
   "execution_count": 15,
   "metadata": {},
   "outputs": [],
   "source": [
    "f.grad = 4.0 #value of d\n",
    "d.grad = -2.0 # value of f\n",
    "L.grad = 1.0 # dl/dl = 1\n",
    "c.grad = -2.0 #(explained below)\n",
    "# now similarily e will also be\n",
    "e.grad = -2.0\n",
    "a.grad = -3.0 * -2.0\n",
    "b.grad = 2.0 *-2.0 \n",
    "# also we understand than any plus node will simply distribute \n",
    "# the nodes values to the leaf nodes and thus passing on the same values \n",
    "# so here we can say that since d is linked through the plus node with c and e \n",
    "# we get the value repeated there in there grad values"
   ]
  },
  {
   "cell_type": "markdown",
   "metadata": {},
   "source": [
    "#### we are able to build out mathematical expression, using only scalar values and + and - signs and we can do a forward pass, and trace the expression that produces the output L\n",
    "#### forward propagation, now we we do back propagation finding derivatives with respect to different values\n"
   ]
  },
  {
   "cell_type": "markdown",
   "metadata": {},
   "source": [
    "now we need to find dl/dc for that we need to understand chain rule (see notebook),\n",
    "but essentially it means \n",
    "dl/dc = dl/dd * dd/dc\n",
    "we know dl/dd = -2.0\n",
    "also dd/dc = 1.0\n",
    "so dl/dc = -2.0 or f"
   ]
  },
  {
   "cell_type": "markdown",
   "metadata": {},
   "source": [
    "now we need the final nodes, dl/de = -2 we know this\n",
    "we want dl/da , so chain rule says\n",
    "dl/de = dl/de *de/da\n",
    "so if we solve this de/da we get d(ab)/da = b and then a for d(ab)/db "
   ]
  },
  {
   "cell_type": "code",
   "execution_count": null,
   "metadata": {},
   "outputs": [],
   "source": []
  },
  {
   "cell_type": "code",
   "execution_count": 16,
   "metadata": {},
   "outputs": [],
   "source": [
    "def derive():\n",
    "    a = Value(2.0,label='a')\n",
    "    b = Value(-3.0,label='b')\n",
    "    e = a*b\n",
    "    e.label = 'e'\n",
    "    c = Value(10.0,label='c')\n",
    "    d= e + c\n",
    "    d.label = 'd'\n",
    "    f = Value(-2.0,label='f')\n",
    "    L = d*f\n",
    "    L.label= 'L'\n",
    "    L1 = L.data\n",
    "    # print(L1)\n",
    "    h = 0.001\n",
    "    a = Value(2.0,label='a')\n",
    "    b = Value(-3.0,label='b')\n",
    "    e = a*b\n",
    "    c = Value(10.0,label='c')\n",
    "    c.data+=h\n",
    "    d= e + c\n",
    "    d.label = 'd'\n",
    "    e.label = 'e'\n",
    "    f = Value(-2.0,label='f')\n",
    "    L = d*f\n",
    "    L.label= 'L'\n",
    "    L2 = L.data\n",
    "    print(\"result\",(L2-L1)/h)"
   ]
  },
  {
   "cell_type": "code",
   "execution_count": 17,
   "metadata": {},
   "outputs": [
    {
     "name": "stdout",
     "output_type": "stream",
     "text": [
      "result -1.9999999999988916\n"
     ]
    }
   ],
   "source": [
    "derive()"
   ]
  },
  {
   "cell_type": "code",
   "execution_count": 53,
   "metadata": {},
   "outputs": [],
   "source": [
    "x1 = Value(2.0,label=\"x1\")\n",
    "x2 = Value(0.0,label=\"x2\")\n",
    "w1 = Value(-3.0,label=\"w1\")\n",
    "w2 = Value(1.0,label=\"w2\")\n",
    "b = Value(6.8813735870195432,label=\"b\")\n",
    "x1w1 = x1*w1 ; x1w1.label=\"x1w1\"\n",
    "x2w2 = x2*w2 ; x2w2.label = \"x2w2\"\n",
    "x1w1x2w2 = x1w1 +x2w2; x1w1x2w2.label=\"x1w1 + x2w2\"\n",
    "n = x1w1x2w2 +b; n.label='n'\n",
    "# o = n.tanh()\n",
    "# replacing it with the breakdown of the tanh Value\n",
    "e = (2*n).exp()\n",
    "o = (e-1)/(e+1) \n",
    "o.label = 'o'\n",
    "o.backward()\n",
    "\n",
    "\n"
   ]
  },
  {
   "cell_type": "code",
   "execution_count": 19,
   "metadata": {},
   "outputs": [],
   "source": [
    "\n",
    "## now we need to find derivative of o w.r.t to the rest of the things\n",
    "# so we begin with do/do = 1, then we back propagate and we need do/dn\n",
    "# we know do/dn = d(tanh)/dn = 1- tanh**2(h)\n",
    "# then we have tan h = o\n",
    "# 1- o**2\n",
    "1- o.data **2\n",
    "\n",
    "\n",
    "n.grad = 0.5\n",
    "## now we also now plus is just a distributor of gradient,so it will just flow down\n",
    "b.grad = n.grad\n",
    "x1w1x2w2.grad = n.grad\n",
    "x1w1.grad = x1w1x2w2.grad\n",
    "x2w2.grad = x1w1x2w2.grad\n",
    "# now we have the first nodes since they are x1,w1,x2,w2, we have chain rule here\n",
    "x2.grad = x2w2.grad* w2.data \n",
    "w2.grad = x2w2.grad* x2.data \n",
    "x1.grad = x1w1.grad * w1.data\n",
    "w1.grad = x1w1.grad * x1.data\n",
    "\n",
    "\n",
    "\n"
   ]
  },
  {
   "cell_type": "code",
   "execution_count": 54,
   "metadata": {},
   "outputs": [
    {
     "data": {
      "image/svg+xml": [
       "<?xml version=\"1.0\" encoding=\"UTF-8\" standalone=\"no\"?>\n",
       "<!DOCTYPE svg PUBLIC \"-//W3C//DTD SVG 1.1//EN\"\n",
       " \"http://www.w3.org/Graphics/SVG/1.1/DTD/svg11.dtd\">\n",
       "<!-- Generated by graphviz version 12.1.0 (20240811.2233)\n",
       " -->\n",
       "<!-- Pages: 1 -->\n",
       "<svg width=\"2909pt\" height=\"239pt\"\n",
       " viewBox=\"0.00 0.00 2909.00 239.00\" xmlns=\"http://www.w3.org/2000/svg\" xmlns:xlink=\"http://www.w3.org/1999/xlink\">\n",
       "<g id=\"graph0\" class=\"graph\" transform=\"scale(1 1) rotate(0) translate(4 235)\">\n",
       "<polygon fill=\"white\" stroke=\"none\" points=\"-4,4 -4,-235 2905,-235 2905,4 -4,4\"/>\n",
       "<!-- 1508623113680 -->\n",
       "<g id=\"node1\" class=\"node\">\n",
       "<title>1508623113680</title>\n",
       "<polygon fill=\"none\" stroke=\"black\" points=\"0,-194.5 0,-230.5 198,-230.5 198,-194.5 0,-194.5\"/>\n",
       "<text text-anchor=\"middle\" x=\"16.25\" y=\"-207.7\" font-family=\"Times New Roman,serif\" font-size=\"14.00\">w1</text>\n",
       "<polyline fill=\"none\" stroke=\"black\" points=\"32.5,-195 32.5,-230.5\"/>\n",
       "<text text-anchor=\"middle\" x=\"74.62\" y=\"-207.7\" font-family=\"Times New Roman,serif\" font-size=\"14.00\">data &#45;3.0000</text>\n",
       "<polyline fill=\"none\" stroke=\"black\" points=\"116.75,-195 116.75,-230.5\"/>\n",
       "<text text-anchor=\"middle\" x=\"157.38\" y=\"-207.7\" font-family=\"Times New Roman,serif\" font-size=\"14.00\">grad 1.0000</text>\n",
       "</g>\n",
       "<!-- 1508623121808* -->\n",
       "<g id=\"node26\" class=\"node\">\n",
       "<title>1508623121808*</title>\n",
       "<ellipse fill=\"none\" stroke=\"black\" cx=\"261\" cy=\"-157.5\" rx=\"27\" ry=\"18\"/>\n",
       "<text text-anchor=\"middle\" x=\"261\" y=\"-152.45\" font-family=\"Times New Roman,serif\" font-size=\"14.00\">*</text>\n",
       "</g>\n",
       "<!-- 1508623113680&#45;&gt;1508623121808* -->\n",
       "<g id=\"edge21\" class=\"edge\">\n",
       "<title>1508623113680&#45;&gt;1508623121808*</title>\n",
       "<path fill=\"none\" stroke=\"black\" d=\"M172.12,-194.01C180.9,-191.35 189.7,-188.5 198,-185.5 208.09,-181.86 218.82,-177.27 228.47,-172.88\"/>\n",
       "<polygon fill=\"black\" stroke=\"black\" points=\"229.86,-176.09 237.45,-168.69 226.9,-169.75 229.86,-176.09\"/>\n",
       "</g>\n",
       "<!-- 1508623110160 -->\n",
       "<g id=\"node2\" class=\"node\">\n",
       "<title>1508623110160</title>\n",
       "<polygon fill=\"none\" stroke=\"black\" points=\"2410.5,-80.5 2410.5,-116.5 2591.25,-116.5 2591.25,-80.5 2410.5,-80.5\"/>\n",
       "<text text-anchor=\"middle\" x=\"2420.38\" y=\"-93.7\" font-family=\"Times New Roman,serif\" font-size=\"14.00\"> </text>\n",
       "<polyline fill=\"none\" stroke=\"black\" points=\"2430.25,-81 2430.25,-116.5\"/>\n",
       "<text text-anchor=\"middle\" x=\"2470.12\" y=\"-93.7\" font-family=\"Times New Roman,serif\" font-size=\"14.00\">data 0.1464</text>\n",
       "<polyline fill=\"none\" stroke=\"black\" points=\"2510,-81 2510,-116.5\"/>\n",
       "<text text-anchor=\"middle\" x=\"2550.62\" y=\"-93.7\" font-family=\"Times New Roman,serif\" font-size=\"14.00\">grad 4.8284</text>\n",
       "</g>\n",
       "<!-- 1508623117008* -->\n",
       "<g id=\"node14\" class=\"node\">\n",
       "<title>1508623117008*</title>\n",
       "<ellipse fill=\"none\" stroke=\"black\" cx=\"2654.25\" cy=\"-72.5\" rx=\"27\" ry=\"18\"/>\n",
       "<text text-anchor=\"middle\" x=\"2654.25\" y=\"-67.45\" font-family=\"Times New Roman,serif\" font-size=\"14.00\">*</text>\n",
       "</g>\n",
       "<!-- 1508623110160&#45;&gt;1508623117008* -->\n",
       "<g id=\"edge15\" class=\"edge\">\n",
       "<title>1508623110160&#45;&gt;1508623117008*</title>\n",
       "<path fill=\"none\" stroke=\"black\" d=\"M2591.68,-83.08C2600.29,-81.6 2608.64,-80.16 2616.28,-78.85\"/>\n",
       "<polygon fill=\"black\" stroke=\"black\" points=\"2616.86,-82.3 2626.12,-77.16 2615.67,-75.4 2616.86,-82.3\"/>\n",
       "</g>\n",
       "<!-- 1508623110160**&#45;1 -->\n",
       "<g id=\"node3\" class=\"node\">\n",
       "<title>1508623110160**&#45;1</title>\n",
       "<ellipse fill=\"none\" stroke=\"black\" cx=\"2284.12\" cy=\"-100.5\" rx=\"27.81\" ry=\"18\"/>\n",
       "<text text-anchor=\"middle\" x=\"2284.12\" y=\"-95.45\" font-family=\"Times New Roman,serif\" font-size=\"14.00\">**&#45;1</text>\n",
       "</g>\n",
       "<!-- 1508623110160**&#45;1&#45;&gt;1508623110160 -->\n",
       "<g id=\"edge1\" class=\"edge\">\n",
       "<title>1508623110160**&#45;1&#45;&gt;1508623110160</title>\n",
       "<path fill=\"none\" stroke=\"black\" d=\"M2312.32,-100.25C2334.43,-100.04 2367.08,-99.74 2398.97,-99.44\"/>\n",
       "<polygon fill=\"black\" stroke=\"black\" points=\"2398.71,-102.94 2408.68,-99.35 2398.65,-95.94 2398.71,-102.94\"/>\n",
       "</g>\n",
       "<!-- 1508623118352 -->\n",
       "<g id=\"node4\" class=\"node\">\n",
       "<title>1508623118352</title>\n",
       "<polygon fill=\"none\" stroke=\"black\" points=\"661.5,-111.5 661.5,-147.5 918.75,-147.5 918.75,-111.5 661.5,-111.5\"/>\n",
       "<text text-anchor=\"middle\" x=\"707.38\" y=\"-124.7\" font-family=\"Times New Roman,serif\" font-size=\"14.00\">x1w1 + x2w2</text>\n",
       "<polyline fill=\"none\" stroke=\"black\" points=\"753.25,-112 753.25,-147.5\"/>\n",
       "<text text-anchor=\"middle\" x=\"795.38\" y=\"-124.7\" font-family=\"Times New Roman,serif\" font-size=\"14.00\">data &#45;6.0000</text>\n",
       "<polyline fill=\"none\" stroke=\"black\" points=\"837.5,-112 837.5,-147.5\"/>\n",
       "<text text-anchor=\"middle\" x=\"878.12\" y=\"-124.7\" font-family=\"Times New Roman,serif\" font-size=\"14.00\">grad 0.5000</text>\n",
       "</g>\n",
       "<!-- 1508623114320+ -->\n",
       "<g id=\"node10\" class=\"node\">\n",
       "<title>1508623114320+</title>\n",
       "<ellipse fill=\"none\" stroke=\"black\" cx=\"981.75\" cy=\"-101.5\" rx=\"27\" ry=\"18\"/>\n",
       "<text text-anchor=\"middle\" x=\"981.75\" y=\"-96.45\" font-family=\"Times New Roman,serif\" font-size=\"14.00\">+</text>\n",
       "</g>\n",
       "<!-- 1508623118352&#45;&gt;1508623114320+ -->\n",
       "<g id=\"edge14\" class=\"edge\">\n",
       "<title>1508623118352&#45;&gt;1508623114320+</title>\n",
       "<path fill=\"none\" stroke=\"black\" d=\"M916.29,-111.02C926.15,-109.56 935.53,-108.18 943.92,-106.94\"/>\n",
       "<polygon fill=\"black\" stroke=\"black\" points=\"944.19,-110.44 953.58,-105.51 943.17,-103.51 944.19,-110.44\"/>\n",
       "</g>\n",
       "<!-- 1508623118352+ -->\n",
       "<g id=\"node5\" class=\"node\">\n",
       "<title>1508623118352+</title>\n",
       "<ellipse fill=\"none\" stroke=\"black\" cx=\"598.5\" cy=\"-129.5\" rx=\"27\" ry=\"18\"/>\n",
       "<text text-anchor=\"middle\" x=\"598.5\" y=\"-124.45\" font-family=\"Times New Roman,serif\" font-size=\"14.00\">+</text>\n",
       "</g>\n",
       "<!-- 1508623118352+&#45;&gt;1508623118352 -->\n",
       "<g id=\"edge2\" class=\"edge\">\n",
       "<title>1508623118352+&#45;&gt;1508623118352</title>\n",
       "<path fill=\"none\" stroke=\"black\" d=\"M625.87,-129.5C632.88,-129.5 640.96,-129.5 649.7,-129.5\"/>\n",
       "<polygon fill=\"black\" stroke=\"black\" points=\"649.57,-133 659.57,-129.5 649.57,-126 649.57,-133\"/>\n",
       "</g>\n",
       "<!-- 1508623118864 -->\n",
       "<g id=\"node6\" class=\"node\">\n",
       "<title>1508623118864</title>\n",
       "<polygon fill=\"none\" stroke=\"black\" points=\"1.5,-139.5 1.5,-175.5 196.5,-175.5 196.5,-139.5 1.5,-139.5\"/>\n",
       "<text text-anchor=\"middle\" x=\"16.25\" y=\"-152.7\" font-family=\"Times New Roman,serif\" font-size=\"14.00\">x1</text>\n",
       "<polyline fill=\"none\" stroke=\"black\" points=\"31,-140 31,-175.5\"/>\n",
       "<text text-anchor=\"middle\" x=\"70.88\" y=\"-152.7\" font-family=\"Times New Roman,serif\" font-size=\"14.00\">data 2.0000</text>\n",
       "<polyline fill=\"none\" stroke=\"black\" points=\"110.75,-140 110.75,-175.5\"/>\n",
       "<text text-anchor=\"middle\" x=\"153.62\" y=\"-152.7\" font-family=\"Times New Roman,serif\" font-size=\"14.00\">grad &#45;1.5000</text>\n",
       "</g>\n",
       "<!-- 1508623118864&#45;&gt;1508623121808* -->\n",
       "<g id=\"edge25\" class=\"edge\">\n",
       "<title>1508623118864&#45;&gt;1508623121808*</title>\n",
       "<path fill=\"none\" stroke=\"black\" d=\"M196.76,-157.5C205.77,-157.5 214.47,-157.5 222.4,-157.5\"/>\n",
       "<polygon fill=\"black\" stroke=\"black\" points=\"222.25,-161 232.25,-157.5 222.25,-154 222.25,-161\"/>\n",
       "</g>\n",
       "<!-- 1508623119952 -->\n",
       "<g id=\"node7\" class=\"node\">\n",
       "<title>1508623119952</title>\n",
       "<polygon fill=\"none\" stroke=\"black\" points=\"1972.5,-82.5 1972.5,-118.5 2157.75,-118.5 2157.75,-82.5 1972.5,-82.5\"/>\n",
       "<text text-anchor=\"middle\" x=\"1982.38\" y=\"-95.7\" font-family=\"Times New Roman,serif\" font-size=\"14.00\"> </text>\n",
       "<polyline fill=\"none\" stroke=\"black\" points=\"1992.25,-83 1992.25,-118.5\"/>\n",
       "<text text-anchor=\"middle\" x=\"2032.12\" y=\"-95.7\" font-family=\"Times New Roman,serif\" font-size=\"14.00\">data 6.8284</text>\n",
       "<polyline fill=\"none\" stroke=\"black\" points=\"2072,-83 2072,-118.5\"/>\n",
       "<text text-anchor=\"middle\" x=\"2114.88\" y=\"-95.7\" font-family=\"Times New Roman,serif\" font-size=\"14.00\">grad &#45;0.1036</text>\n",
       "</g>\n",
       "<!-- 1508623119952&#45;&gt;1508623110160**&#45;1 -->\n",
       "<g id=\"edge11\" class=\"edge\">\n",
       "<title>1508623119952&#45;&gt;1508623110160**&#45;1</title>\n",
       "<path fill=\"none\" stroke=\"black\" d=\"M2158.15,-100.5C2188.39,-100.5 2220.38,-100.5 2244.42,-100.5\"/>\n",
       "<polygon fill=\"black\" stroke=\"black\" points=\"2244.37,-104 2254.37,-100.5 2244.37,-97 2244.37,-104\"/>\n",
       "</g>\n",
       "<!-- 1508623119952+ -->\n",
       "<g id=\"node8\" class=\"node\">\n",
       "<title>1508623119952+</title>\n",
       "<ellipse fill=\"none\" stroke=\"black\" cx=\"1909.5\" cy=\"-100.5\" rx=\"27\" ry=\"18\"/>\n",
       "<text text-anchor=\"middle\" x=\"1909.5\" y=\"-95.45\" font-family=\"Times New Roman,serif\" font-size=\"14.00\">+</text>\n",
       "</g>\n",
       "<!-- 1508623119952+&#45;&gt;1508623119952 -->\n",
       "<g id=\"edge3\" class=\"edge\">\n",
       "<title>1508623119952+&#45;&gt;1508623119952</title>\n",
       "<path fill=\"none\" stroke=\"black\" d=\"M1936.91,-100.5C1943.95,-100.5 1952,-100.5 1960.55,-100.5\"/>\n",
       "<polygon fill=\"black\" stroke=\"black\" points=\"1960.54,-104 1970.54,-100.5 1960.54,-97 1960.54,-104\"/>\n",
       "</g>\n",
       "<!-- 1508623114320 -->\n",
       "<g id=\"node9\" class=\"node\">\n",
       "<title>1508623114320</title>\n",
       "<polygon fill=\"none\" stroke=\"black\" points=\"1044.75,-83.5 1044.75,-119.5 1228.5,-119.5 1228.5,-83.5 1044.75,-83.5\"/>\n",
       "<text text-anchor=\"middle\" x=\"1056.12\" y=\"-96.7\" font-family=\"Times New Roman,serif\" font-size=\"14.00\">n</text>\n",
       "<polyline fill=\"none\" stroke=\"black\" points=\"1067.5,-84 1067.5,-119.5\"/>\n",
       "<text text-anchor=\"middle\" x=\"1107.38\" y=\"-96.7\" font-family=\"Times New Roman,serif\" font-size=\"14.00\">data 0.8814</text>\n",
       "<polyline fill=\"none\" stroke=\"black\" points=\"1147.25,-84 1147.25,-119.5\"/>\n",
       "<text text-anchor=\"middle\" x=\"1187.88\" y=\"-96.7\" font-family=\"Times New Roman,serif\" font-size=\"14.00\">grad 0.5000</text>\n",
       "</g>\n",
       "<!-- 1508623119632* -->\n",
       "<g id=\"node20\" class=\"node\">\n",
       "<title>1508623119632*</title>\n",
       "<ellipse fill=\"none\" stroke=\"black\" cx=\"1291.5\" cy=\"-73.5\" rx=\"27\" ry=\"18\"/>\n",
       "<text text-anchor=\"middle\" x=\"1291.5\" y=\"-68.45\" font-family=\"Times New Roman,serif\" font-size=\"14.00\">*</text>\n",
       "</g>\n",
       "<!-- 1508623114320&#45;&gt;1508623119632* -->\n",
       "<g id=\"edge26\" class=\"edge\">\n",
       "<title>1508623114320&#45;&gt;1508623119632*</title>\n",
       "<path fill=\"none\" stroke=\"black\" d=\"M1228.76,-84.81C1237.59,-83.19 1246.15,-81.62 1253.94,-80.2\"/>\n",
       "<polygon fill=\"black\" stroke=\"black\" points=\"1254.42,-83.67 1263.63,-78.42 1253.16,-76.78 1254.42,-83.67\"/>\n",
       "</g>\n",
       "<!-- 1508623114320+&#45;&gt;1508623114320 -->\n",
       "<g id=\"edge4\" class=\"edge\">\n",
       "<title>1508623114320+&#45;&gt;1508623114320</title>\n",
       "<path fill=\"none\" stroke=\"black\" d=\"M1009.03,-101.5C1016.17,-101.5 1024.36,-101.5 1033.07,-101.5\"/>\n",
       "<polygon fill=\"black\" stroke=\"black\" points=\"1032.81,-105 1042.81,-101.5 1032.81,-98 1032.81,-105\"/>\n",
       "</g>\n",
       "<!-- 1508623115856 -->\n",
       "<g id=\"node11\" class=\"node\">\n",
       "<title>1508623115856</title>\n",
       "<polygon fill=\"none\" stroke=\"black\" points=\"2.25,-84.5 2.25,-120.5 195.75,-120.5 195.75,-84.5 2.25,-84.5\"/>\n",
       "<text text-anchor=\"middle\" x=\"18.5\" y=\"-97.7\" font-family=\"Times New Roman,serif\" font-size=\"14.00\">w2</text>\n",
       "<polyline fill=\"none\" stroke=\"black\" points=\"34.75,-85 34.75,-120.5\"/>\n",
       "<text text-anchor=\"middle\" x=\"74.62\" y=\"-97.7\" font-family=\"Times New Roman,serif\" font-size=\"14.00\">data 1.0000</text>\n",
       "<polyline fill=\"none\" stroke=\"black\" points=\"114.5,-85 114.5,-120.5\"/>\n",
       "<text text-anchor=\"middle\" x=\"155.12\" y=\"-97.7\" font-family=\"Times New Roman,serif\" font-size=\"14.00\">grad 0.0000</text>\n",
       "</g>\n",
       "<!-- 1508623108880* -->\n",
       "<g id=\"node22\" class=\"node\">\n",
       "<title>1508623108880*</title>\n",
       "<ellipse fill=\"none\" stroke=\"black\" cx=\"261\" cy=\"-102.5\" rx=\"27\" ry=\"18\"/>\n",
       "<text text-anchor=\"middle\" x=\"261\" y=\"-97.45\" font-family=\"Times New Roman,serif\" font-size=\"14.00\">*</text>\n",
       "</g>\n",
       "<!-- 1508623115856&#45;&gt;1508623108880* -->\n",
       "<g id=\"edge16\" class=\"edge\">\n",
       "<title>1508623115856&#45;&gt;1508623108880*</title>\n",
       "<path fill=\"none\" stroke=\"black\" d=\"M195.84,-102.5C205.14,-102.5 214.15,-102.5 222.32,-102.5\"/>\n",
       "<polygon fill=\"black\" stroke=\"black\" points=\"222.13,-106 232.13,-102.5 222.13,-99 222.13,-106\"/>\n",
       "</g>\n",
       "<!-- 1508623120528 -->\n",
       "<g id=\"node12\" class=\"node\">\n",
       "<title>1508623120528</title>\n",
       "<polygon fill=\"none\" stroke=\"black\" points=\"1661.25,-0.5 1661.25,-36.5 1846.5,-36.5 1846.5,-0.5 1661.25,-0.5\"/>\n",
       "<text text-anchor=\"middle\" x=\"1671.12\" y=\"-13.7\" font-family=\"Times New Roman,serif\" font-size=\"14.00\"> </text>\n",
       "<polyline fill=\"none\" stroke=\"black\" points=\"1681,-1 1681,-36.5\"/>\n",
       "<text text-anchor=\"middle\" x=\"1723.12\" y=\"-13.7\" font-family=\"Times New Roman,serif\" font-size=\"14.00\">data &#45;1.0000</text>\n",
       "<polyline fill=\"none\" stroke=\"black\" points=\"1765.25,-1 1765.25,-36.5\"/>\n",
       "<text text-anchor=\"middle\" x=\"1805.88\" y=\"-13.7\" font-family=\"Times New Roman,serif\" font-size=\"14.00\">grad 0.1464</text>\n",
       "</g>\n",
       "<!-- 1508623111632+ -->\n",
       "<g id=\"node24\" class=\"node\">\n",
       "<title>1508623111632+</title>\n",
       "<ellipse fill=\"none\" stroke=\"black\" cx=\"1909.5\" cy=\"-45.5\" rx=\"27\" ry=\"18\"/>\n",
       "<text text-anchor=\"middle\" x=\"1909.5\" y=\"-40.45\" font-family=\"Times New Roman,serif\" font-size=\"14.00\">+</text>\n",
       "</g>\n",
       "<!-- 1508623120528&#45;&gt;1508623111632+ -->\n",
       "<g id=\"edge22\" class=\"edge\">\n",
       "<title>1508623120528&#45;&gt;1508623111632+</title>\n",
       "<path fill=\"none\" stroke=\"black\" d=\"M1846.9,-34.67C1855.64,-36.21 1864.11,-37.7 1871.83,-39.05\"/>\n",
       "<polygon fill=\"black\" stroke=\"black\" points=\"1870.95,-42.45 1881.41,-40.74 1872.16,-35.56 1870.95,-42.45\"/>\n",
       "</g>\n",
       "<!-- 1508623117008 -->\n",
       "<g id=\"node13\" class=\"node\">\n",
       "<title>1508623117008</title>\n",
       "<polygon fill=\"none\" stroke=\"black\" points=\"2717.25,-54.5 2717.25,-90.5 2901,-90.5 2901,-54.5 2717.25,-54.5\"/>\n",
       "<text text-anchor=\"middle\" x=\"2728.62\" y=\"-67.7\" font-family=\"Times New Roman,serif\" font-size=\"14.00\">o</text>\n",
       "<polyline fill=\"none\" stroke=\"black\" points=\"2740,-55 2740,-90.5\"/>\n",
       "<text text-anchor=\"middle\" x=\"2779.88\" y=\"-67.7\" font-family=\"Times New Roman,serif\" font-size=\"14.00\">data 0.7071</text>\n",
       "<polyline fill=\"none\" stroke=\"black\" points=\"2819.75,-55 2819.75,-90.5\"/>\n",
       "<text text-anchor=\"middle\" x=\"2860.38\" y=\"-67.7\" font-family=\"Times New Roman,serif\" font-size=\"14.00\">grad 1.0000</text>\n",
       "</g>\n",
       "<!-- 1508623117008*&#45;&gt;1508623117008 -->\n",
       "<g id=\"edge5\" class=\"edge\">\n",
       "<title>1508623117008*&#45;&gt;1508623117008</title>\n",
       "<path fill=\"none\" stroke=\"black\" d=\"M2681.53,-72.5C2688.67,-72.5 2696.86,-72.5 2705.57,-72.5\"/>\n",
       "<polygon fill=\"black\" stroke=\"black\" points=\"2705.31,-76 2715.31,-72.5 2705.31,-69 2705.31,-76\"/>\n",
       "</g>\n",
       "<!-- 1508623120848 -->\n",
       "<g id=\"node15\" class=\"node\">\n",
       "<title>1508623120848</title>\n",
       "<polygon fill=\"none\" stroke=\"black\" points=\"1661.25,-110.5 1661.25,-146.5 1846.5,-146.5 1846.5,-110.5 1661.25,-110.5\"/>\n",
       "<text text-anchor=\"middle\" x=\"1671.12\" y=\"-123.7\" font-family=\"Times New Roman,serif\" font-size=\"14.00\"> </text>\n",
       "<polyline fill=\"none\" stroke=\"black\" points=\"1681,-111 1681,-146.5\"/>\n",
       "<text text-anchor=\"middle\" x=\"1720.88\" y=\"-123.7\" font-family=\"Times New Roman,serif\" font-size=\"14.00\">data 1.0000</text>\n",
       "<polyline fill=\"none\" stroke=\"black\" points=\"1760.75,-111 1760.75,-146.5\"/>\n",
       "<text text-anchor=\"middle\" x=\"1803.62\" y=\"-123.7\" font-family=\"Times New Roman,serif\" font-size=\"14.00\">grad &#45;0.1036</text>\n",
       "</g>\n",
       "<!-- 1508623120848&#45;&gt;1508623119952+ -->\n",
       "<g id=\"edge20\" class=\"edge\">\n",
       "<title>1508623120848&#45;&gt;1508623119952+</title>\n",
       "<path fill=\"none\" stroke=\"black\" d=\"M1846.9,-111.73C1855.64,-110.13 1864.11,-108.59 1871.83,-107.18\"/>\n",
       "<polygon fill=\"black\" stroke=\"black\" points=\"1872.2,-110.67 1881.41,-105.44 1870.94,-103.79 1872.2,-110.67\"/>\n",
       "</g>\n",
       "<!-- 1508623121360 -->\n",
       "<g id=\"node16\" class=\"node\">\n",
       "<title>1508623121360</title>\n",
       "<polygon fill=\"none\" stroke=\"black\" points=\"3.75,-29.5 3.75,-65.5 194.25,-65.5 194.25,-29.5 3.75,-29.5\"/>\n",
       "<text text-anchor=\"middle\" x=\"18.5\" y=\"-42.7\" font-family=\"Times New Roman,serif\" font-size=\"14.00\">x2</text>\n",
       "<polyline fill=\"none\" stroke=\"black\" points=\"33.25,-30 33.25,-65.5\"/>\n",
       "<text text-anchor=\"middle\" x=\"73.12\" y=\"-42.7\" font-family=\"Times New Roman,serif\" font-size=\"14.00\">data 0.0000</text>\n",
       "<polyline fill=\"none\" stroke=\"black\" points=\"113,-30 113,-65.5\"/>\n",
       "<text text-anchor=\"middle\" x=\"153.62\" y=\"-42.7\" font-family=\"Times New Roman,serif\" font-size=\"14.00\">grad 0.5000</text>\n",
       "</g>\n",
       "<!-- 1508623121360&#45;&gt;1508623108880* -->\n",
       "<g id=\"edge13\" class=\"edge\">\n",
       "<title>1508623121360&#45;&gt;1508623108880*</title>\n",
       "<path fill=\"none\" stroke=\"black\" d=\"M168.91,-65.94C178.74,-68.93 188.67,-72.15 198,-75.5 207.96,-79.07 218.58,-83.47 228.18,-87.68\"/>\n",
       "<polygon fill=\"black\" stroke=\"black\" points=\"226.54,-90.78 237.1,-91.67 229.4,-84.39 226.54,-90.78\"/>\n",
       "</g>\n",
       "<!-- 1508623120144 -->\n",
       "<g id=\"node17\" class=\"node\">\n",
       "<title>1508623120144</title>\n",
       "<polygon fill=\"none\" stroke=\"black\" points=\"1663.5,-55.5 1663.5,-91.5 1844.25,-91.5 1844.25,-55.5 1663.5,-55.5\"/>\n",
       "<text text-anchor=\"middle\" x=\"1673.38\" y=\"-68.7\" font-family=\"Times New Roman,serif\" font-size=\"14.00\"> </text>\n",
       "<polyline fill=\"none\" stroke=\"black\" points=\"1683.25,-56 1683.25,-91.5\"/>\n",
       "<text text-anchor=\"middle\" x=\"1723.12\" y=\"-68.7\" font-family=\"Times New Roman,serif\" font-size=\"14.00\">data 5.8284</text>\n",
       "<polyline fill=\"none\" stroke=\"black\" points=\"1763,-56 1763,-91.5\"/>\n",
       "<text text-anchor=\"middle\" x=\"1803.62\" y=\"-68.7\" font-family=\"Times New Roman,serif\" font-size=\"14.00\">grad 0.0429</text>\n",
       "</g>\n",
       "<!-- 1508623120144&#45;&gt;1508623119952+ -->\n",
       "<g id=\"edge24\" class=\"edge\">\n",
       "<title>1508623120144&#45;&gt;1508623119952+</title>\n",
       "<path fill=\"none\" stroke=\"black\" d=\"M1844.68,-89.28C1854.23,-90.96 1863.51,-92.59 1871.89,-94.07\"/>\n",
       "<polygon fill=\"black\" stroke=\"black\" points=\"1871.14,-97.49 1881.6,-95.77 1872.36,-90.59 1871.14,-97.49\"/>\n",
       "</g>\n",
       "<!-- 1508623120144&#45;&gt;1508623111632+ -->\n",
       "<g id=\"edge19\" class=\"edge\">\n",
       "<title>1508623120144&#45;&gt;1508623111632+</title>\n",
       "<path fill=\"none\" stroke=\"black\" d=\"M1844.68,-57.13C1854.23,-55.39 1863.51,-53.7 1871.89,-52.17\"/>\n",
       "<polygon fill=\"black\" stroke=\"black\" points=\"1872.39,-55.64 1881.6,-50.4 1871.14,-48.75 1872.39,-55.64\"/>\n",
       "</g>\n",
       "<!-- 1508623120144exp -->\n",
       "<g id=\"node18\" class=\"node\">\n",
       "<title>1508623120144exp</title>\n",
       "<ellipse fill=\"none\" stroke=\"black\" cx=\"1598.25\" cy=\"-73.5\" rx=\"27\" ry=\"18\"/>\n",
       "<text text-anchor=\"middle\" x=\"1598.25\" y=\"-68.45\" font-family=\"Times New Roman,serif\" font-size=\"14.00\">exp</text>\n",
       "</g>\n",
       "<!-- 1508623120144exp&#45;&gt;1508623120144 -->\n",
       "<g id=\"edge6\" class=\"edge\">\n",
       "<title>1508623120144exp&#45;&gt;1508623120144</title>\n",
       "<path fill=\"none\" stroke=\"black\" d=\"M1625.66,-73.5C1633.37,-73.5 1642.29,-73.5 1651.76,-73.5\"/>\n",
       "<polygon fill=\"black\" stroke=\"black\" points=\"1651.57,-77 1661.57,-73.5 1651.57,-70 1651.57,-77\"/>\n",
       "</g>\n",
       "<!-- 1508623119632 -->\n",
       "<g id=\"node19\" class=\"node\">\n",
       "<title>1508623119632</title>\n",
       "<polygon fill=\"none\" stroke=\"black\" points=\"1354.5,-55.5 1354.5,-91.5 1535.25,-91.5 1535.25,-55.5 1354.5,-55.5\"/>\n",
       "<text text-anchor=\"middle\" x=\"1364.38\" y=\"-68.7\" font-family=\"Times New Roman,serif\" font-size=\"14.00\"> </text>\n",
       "<polyline fill=\"none\" stroke=\"black\" points=\"1374.25,-56 1374.25,-91.5\"/>\n",
       "<text text-anchor=\"middle\" x=\"1414.12\" y=\"-68.7\" font-family=\"Times New Roman,serif\" font-size=\"14.00\">data 1.7627</text>\n",
       "<polyline fill=\"none\" stroke=\"black\" points=\"1454,-56 1454,-91.5\"/>\n",
       "<text text-anchor=\"middle\" x=\"1494.62\" y=\"-68.7\" font-family=\"Times New Roman,serif\" font-size=\"14.00\">grad 0.2500</text>\n",
       "</g>\n",
       "<!-- 1508623119632&#45;&gt;1508623120144exp -->\n",
       "<g id=\"edge23\" class=\"edge\">\n",
       "<title>1508623119632&#45;&gt;1508623120144exp</title>\n",
       "<path fill=\"none\" stroke=\"black\" d=\"M1535.68,-73.5C1544.02,-73.5 1552.12,-73.5 1559.56,-73.5\"/>\n",
       "<polygon fill=\"black\" stroke=\"black\" points=\"1559.5,-77 1569.5,-73.5 1559.5,-70 1559.5,-77\"/>\n",
       "</g>\n",
       "<!-- 1508623119632*&#45;&gt;1508623119632 -->\n",
       "<g id=\"edge7\" class=\"edge\">\n",
       "<title>1508623119632*&#45;&gt;1508623119632</title>\n",
       "<path fill=\"none\" stroke=\"black\" d=\"M1318.87,-73.5C1326.01,-73.5 1334.2,-73.5 1342.89,-73.5\"/>\n",
       "<polygon fill=\"black\" stroke=\"black\" points=\"1342.61,-77 1352.61,-73.5 1342.61,-70 1342.61,-77\"/>\n",
       "</g>\n",
       "<!-- 1508623108880 -->\n",
       "<g id=\"node21\" class=\"node\">\n",
       "<title>1508623108880</title>\n",
       "<polygon fill=\"none\" stroke=\"black\" points=\"326.25,-84.5 326.25,-120.5 533.25,-120.5 533.25,-84.5 326.25,-84.5\"/>\n",
       "<text text-anchor=\"middle\" x=\"349.25\" y=\"-97.7\" font-family=\"Times New Roman,serif\" font-size=\"14.00\">x2w2</text>\n",
       "<polyline fill=\"none\" stroke=\"black\" points=\"372.25,-85 372.25,-120.5\"/>\n",
       "<text text-anchor=\"middle\" x=\"412.12\" y=\"-97.7\" font-family=\"Times New Roman,serif\" font-size=\"14.00\">data 0.0000</text>\n",
       "<polyline fill=\"none\" stroke=\"black\" points=\"452,-85 452,-120.5\"/>\n",
       "<text text-anchor=\"middle\" x=\"492.62\" y=\"-97.7\" font-family=\"Times New Roman,serif\" font-size=\"14.00\">grad 0.5000</text>\n",
       "</g>\n",
       "<!-- 1508623108880&#45;&gt;1508623118352+ -->\n",
       "<g id=\"edge12\" class=\"edge\">\n",
       "<title>1508623108880&#45;&gt;1508623118352+</title>\n",
       "<path fill=\"none\" stroke=\"black\" d=\"M533.51,-119.14C543.16,-120.7 552.45,-122.21 560.82,-123.56\"/>\n",
       "<polygon fill=\"black\" stroke=\"black\" points=\"560.05,-126.98 570.48,-125.12 561.16,-120.07 560.05,-126.98\"/>\n",
       "</g>\n",
       "<!-- 1508623108880*&#45;&gt;1508623108880 -->\n",
       "<g id=\"edge8\" class=\"edge\">\n",
       "<title>1508623108880*&#45;&gt;1508623108880</title>\n",
       "<path fill=\"none\" stroke=\"black\" d=\"M288.42,-102.5C296.08,-102.5 304.96,-102.5 314.47,-102.5\"/>\n",
       "<polygon fill=\"black\" stroke=\"black\" points=\"314.37,-106 324.37,-102.5 314.37,-99 314.37,-106\"/>\n",
       "</g>\n",
       "<!-- 1508623111632 -->\n",
       "<g id=\"node23\" class=\"node\">\n",
       "<title>1508623111632</title>\n",
       "<polygon fill=\"none\" stroke=\"black\" points=\"2193.75,-27.5 2193.75,-63.5 2374.5,-63.5 2374.5,-27.5 2193.75,-27.5\"/>\n",
       "<text text-anchor=\"middle\" x=\"2203.62\" y=\"-40.7\" font-family=\"Times New Roman,serif\" font-size=\"14.00\"> </text>\n",
       "<polyline fill=\"none\" stroke=\"black\" points=\"2213.5,-28 2213.5,-63.5\"/>\n",
       "<text text-anchor=\"middle\" x=\"2253.38\" y=\"-40.7\" font-family=\"Times New Roman,serif\" font-size=\"14.00\">data 4.8284</text>\n",
       "<polyline fill=\"none\" stroke=\"black\" points=\"2293.25,-28 2293.25,-63.5\"/>\n",
       "<text text-anchor=\"middle\" x=\"2333.88\" y=\"-40.7\" font-family=\"Times New Roman,serif\" font-size=\"14.00\">grad 0.1464</text>\n",
       "</g>\n",
       "<!-- 1508623111632&#45;&gt;1508623117008* -->\n",
       "<g id=\"edge18\" class=\"edge\">\n",
       "<title>1508623111632&#45;&gt;1508623117008*</title>\n",
       "<path fill=\"none\" stroke=\"black\" d=\"M2374.71,-52.07C2452,-57.74 2559.78,-65.64 2615.92,-69.76\"/>\n",
       "<polygon fill=\"black\" stroke=\"black\" points=\"2615.34,-73.23 2625.57,-70.47 2615.85,-66.25 2615.34,-73.23\"/>\n",
       "</g>\n",
       "<!-- 1508623111632+&#45;&gt;1508623111632 -->\n",
       "<g id=\"edge9\" class=\"edge\">\n",
       "<title>1508623111632+&#45;&gt;1508623111632</title>\n",
       "<path fill=\"none\" stroke=\"black\" d=\"M1937,-45.5C1987.26,-45.5 2098.82,-45.5 2181.78,-45.5\"/>\n",
       "<polygon fill=\"black\" stroke=\"black\" points=\"2181.77,-49 2191.77,-45.5 2181.77,-42 2181.77,-49\"/>\n",
       "</g>\n",
       "<!-- 1508623121808 -->\n",
       "<g id=\"node25\" class=\"node\">\n",
       "<title>1508623121808</title>\n",
       "<polygon fill=\"none\" stroke=\"black\" points=\"324,-139.5 324,-175.5 535.5,-175.5 535.5,-139.5 324,-139.5\"/>\n",
       "<text text-anchor=\"middle\" x=\"347\" y=\"-152.7\" font-family=\"Times New Roman,serif\" font-size=\"14.00\">x1w1</text>\n",
       "<polyline fill=\"none\" stroke=\"black\" points=\"370,-140 370,-175.5\"/>\n",
       "<text text-anchor=\"middle\" x=\"412.12\" y=\"-152.7\" font-family=\"Times New Roman,serif\" font-size=\"14.00\">data &#45;6.0000</text>\n",
       "<polyline fill=\"none\" stroke=\"black\" points=\"454.25,-140 454.25,-175.5\"/>\n",
       "<text text-anchor=\"middle\" x=\"494.88\" y=\"-152.7\" font-family=\"Times New Roman,serif\" font-size=\"14.00\">grad 0.5000</text>\n",
       "</g>\n",
       "<!-- 1508623121808&#45;&gt;1508623118352+ -->\n",
       "<g id=\"edge27\" class=\"edge\">\n",
       "<title>1508623121808&#45;&gt;1508623118352+</title>\n",
       "<path fill=\"none\" stroke=\"black\" d=\"M535.88,-139.85C544.59,-138.38 552.96,-136.98 560.56,-135.7\"/>\n",
       "<polygon fill=\"black\" stroke=\"black\" points=\"561.06,-139.17 570.34,-134.06 559.9,-132.26 561.06,-139.17\"/>\n",
       "</g>\n",
       "<!-- 1508623121808*&#45;&gt;1508623121808 -->\n",
       "<g id=\"edge10\" class=\"edge\">\n",
       "<title>1508623121808*&#45;&gt;1508623121808</title>\n",
       "<path fill=\"none\" stroke=\"black\" d=\"M288.42,-157.5C295.52,-157.5 303.68,-157.5 312.42,-157.5\"/>\n",
       "<polygon fill=\"black\" stroke=\"black\" points=\"312.24,-161 322.24,-157.5 312.24,-154 312.24,-161\"/>\n",
       "</g>\n",
       "<!-- 1508623112144 -->\n",
       "<g id=\"node27\" class=\"node\">\n",
       "<title>1508623112144</title>\n",
       "<polygon fill=\"none\" stroke=\"black\" points=\"698.25,-56.5 698.25,-92.5 882,-92.5 882,-56.5 698.25,-56.5\"/>\n",
       "<text text-anchor=\"middle\" x=\"709.62\" y=\"-69.7\" font-family=\"Times New Roman,serif\" font-size=\"14.00\">b</text>\n",
       "<polyline fill=\"none\" stroke=\"black\" points=\"721,-57 721,-92.5\"/>\n",
       "<text text-anchor=\"middle\" x=\"760.88\" y=\"-69.7\" font-family=\"Times New Roman,serif\" font-size=\"14.00\">data 6.8814</text>\n",
       "<polyline fill=\"none\" stroke=\"black\" points=\"800.75,-57 800.75,-92.5\"/>\n",
       "<text text-anchor=\"middle\" x=\"841.38\" y=\"-69.7\" font-family=\"Times New Roman,serif\" font-size=\"14.00\">grad 0.5000</text>\n",
       "</g>\n",
       "<!-- 1508623112144&#45;&gt;1508623114320+ -->\n",
       "<g id=\"edge17\" class=\"edge\">\n",
       "<title>1508623112144&#45;&gt;1508623114320+</title>\n",
       "<path fill=\"none\" stroke=\"black\" d=\"M882.33,-87.49C904.17,-90.6 926.27,-93.74 943.98,-96.26\"/>\n",
       "<polygon fill=\"black\" stroke=\"black\" points=\"943.32,-99.71 953.71,-97.65 944.3,-92.78 943.32,-99.71\"/>\n",
       "</g>\n",
       "<!-- 1508623111120 -->\n",
       "<g id=\"node28\" class=\"node\">\n",
       "<title>1508623111120</title>\n",
       "<polygon fill=\"none\" stroke=\"black\" points=\"1046.25,-28.5 1046.25,-64.5 1227,-64.5 1227,-28.5 1046.25,-28.5\"/>\n",
       "<text text-anchor=\"middle\" x=\"1056.12\" y=\"-41.7\" font-family=\"Times New Roman,serif\" font-size=\"14.00\"> </text>\n",
       "<polyline fill=\"none\" stroke=\"black\" points=\"1066,-29 1066,-64.5\"/>\n",
       "<text text-anchor=\"middle\" x=\"1105.88\" y=\"-41.7\" font-family=\"Times New Roman,serif\" font-size=\"14.00\">data 2.0000</text>\n",
       "<polyline fill=\"none\" stroke=\"black\" points=\"1145.75,-29 1145.75,-64.5\"/>\n",
       "<text text-anchor=\"middle\" x=\"1186.38\" y=\"-41.7\" font-family=\"Times New Roman,serif\" font-size=\"14.00\">grad 0.2203</text>\n",
       "</g>\n",
       "<!-- 1508623111120&#45;&gt;1508623119632* -->\n",
       "<g id=\"edge28\" class=\"edge\">\n",
       "<title>1508623111120&#45;&gt;1508623119632*</title>\n",
       "<path fill=\"none\" stroke=\"black\" d=\"M1227.44,-62.36C1236.69,-64 1245.68,-65.58 1253.83,-67.02\"/>\n",
       "<polygon fill=\"black\" stroke=\"black\" points=\"1253.16,-70.46 1263.62,-68.75 1254.38,-63.57 1253.16,-70.46\"/>\n",
       "</g>\n",
       "</g>\n",
       "</svg>\n"
      ],
      "text/plain": [
       "<graphviz.graphs.Digraph at 0x15f3f9b1050>"
      ]
     },
     "execution_count": 54,
     "metadata": {},
     "output_type": "execute_result"
    }
   ],
   "source": [
    "draw_dot(o)"
   ]
  },
  {
   "cell_type": "code",
   "execution_count": 30,
   "metadata": {},
   "outputs": [],
   "source": [
    "# now we wrote the backward function so we are going to call it in the order it is supposed to be\n",
    "o.grad = 1.0\n",
    "\n",
    "o.backward()"
   ]
  },
  {
   "cell_type": "code",
   "execution_count": 31,
   "metadata": {},
   "outputs": [],
   "source": [
    "o._backward()"
   ]
  },
  {
   "cell_type": "code",
   "execution_count": 32,
   "metadata": {},
   "outputs": [],
   "source": [
    "n._backward()"
   ]
  },
  {
   "cell_type": "code",
   "execution_count": 33,
   "metadata": {},
   "outputs": [],
   "source": [
    "b._backward()"
   ]
  },
  {
   "cell_type": "code",
   "execution_count": 34,
   "metadata": {},
   "outputs": [],
   "source": [
    "x1w1x2w2._backward()"
   ]
  },
  {
   "cell_type": "code",
   "execution_count": 35,
   "metadata": {},
   "outputs": [],
   "source": [
    "x1w1._backward()"
   ]
  },
  {
   "cell_type": "code",
   "execution_count": 27,
   "metadata": {},
   "outputs": [],
   "source": [
    "x2w2._backward()"
   ]
  },
  {
   "cell_type": "markdown",
   "metadata": {},
   "source": [
    "Now we will do the same thing in torch and hope to see the same results"
   ]
  },
  {
   "cell_type": "code",
   "execution_count": 58,
   "metadata": {},
   "outputs": [
    {
     "name": "stdout",
     "output_type": "stream",
     "text": [
      "Requirement already satisfied: torch in s:\\work\\projects\\maybe-micrograd\\maybe-micrograd\\lib\\site-packages (2.4.0)\n",
      "Requirement already satisfied: filelock in s:\\work\\projects\\maybe-micrograd\\maybe-micrograd\\lib\\site-packages (from torch) (3.15.4)\n",
      "Requirement already satisfied: typing-extensions>=4.8.0 in s:\\work\\projects\\maybe-micrograd\\maybe-micrograd\\lib\\site-packages (from torch) (4.12.2)\n",
      "Requirement already satisfied: sympy in s:\\work\\projects\\maybe-micrograd\\maybe-micrograd\\lib\\site-packages (from torch) (1.13.2)\n",
      "Requirement already satisfied: networkx in s:\\work\\projects\\maybe-micrograd\\maybe-micrograd\\lib\\site-packages (from torch) (3.3)\n",
      "Requirement already satisfied: jinja2 in s:\\work\\projects\\maybe-micrograd\\maybe-micrograd\\lib\\site-packages (from torch) (3.1.4)\n",
      "Requirement already satisfied: fsspec in s:\\work\\projects\\maybe-micrograd\\maybe-micrograd\\lib\\site-packages (from torch) (2024.6.1)\n",
      "Requirement already satisfied: MarkupSafe>=2.0 in s:\\work\\projects\\maybe-micrograd\\maybe-micrograd\\lib\\site-packages (from jinja2->torch) (2.1.5)\n",
      "Requirement already satisfied: mpmath<1.4,>=1.1.0 in s:\\work\\projects\\maybe-micrograd\\maybe-micrograd\\lib\\site-packages (from sympy->torch) (1.3.0)\n",
      "Note: you may need to restart the kernel to use updated packages.\n"
     ]
    },
    {
     "name": "stderr",
     "output_type": "stream",
     "text": [
      "\n",
      "[notice] A new release of pip is available: 23.2.1 -> 24.2\n",
      "[notice] To update, run: python.exe -m pip install --upgrade pip\n"
     ]
    }
   ],
   "source": [
    "%pip install torch\n",
    "import torch"
   ]
  },
  {
   "cell_type": "code",
   "execution_count": 61,
   "metadata": {},
   "outputs": [
    {
     "name": "stdout",
     "output_type": "stream",
     "text": [
      "0.7071066904050358\n",
      "x1 -1.5000003851533106\n",
      "x2 0.5000001283844369\n",
      "w1 1.0000002567688737\n",
      "w2 0.0\n"
     ]
    }
   ],
   "source": [
    "# x1 = Value(2.0,label=\"x1\")\n",
    "# x2 = Value(0.0,label=\"x2\")\n",
    "# w1 = Value(-3.0,label=\"w1\")\n",
    "# w2 = Value(1.0,label=\"w2\")\n",
    "# b = Value(6.8813735870195432,label=\"b\")\n",
    "# x1w1 = x1*w1 ; x1w1.label=\"x1w1\"\n",
    "# x2w2 = x2*w2 ; x2w2.label = \"x2w2\"\n",
    "# x1w1x2w2 = x1w1 +x2w2; x1w1x2w2.label=\"x1w1 + x2w2\"\n",
    "# n = x1w1x2w2 +b; n.label='n'\n",
    "# # o = n.tanh()\n",
    "# # replacing it with the breakdown of the tanh Value\n",
    "# e = (2*n).exp()\n",
    "# o = (e-1)/(e+1) \n",
    "# o.label = 'o'\n",
    "# o.backward()\n",
    "\n",
    "x1 = torch.Tensor([2.0]).double()\n",
    "x1.requires_grad = True\n",
    "x2 = torch.Tensor([0.0]).double()\n",
    "x2.requires_grad = True\n",
    "w1 = torch.Tensor([-3.0]).double()\n",
    "w1.requires_grad = True\n",
    "w2 = torch.Tensor([1.0]).double()\n",
    "w2.requires_grad = True\n",
    "b = torch.Tensor([6.8813735870195432]).double()\n",
    "b.requires_grad = True\n",
    "n = x1*w1 +x2*w2 +b\n",
    "o = torch.tanh(n)\n",
    "o.backward()\n",
    "print(o.data.item())\n",
    "print('x1',x1.grad.item())\n",
    "print('x2',x2.grad.item())\n",
    "print('w1',w1.grad.item())\n",
    "print('w2',w2.grad.item())"
   ]
  },
  {
   "cell_type": "markdown",
   "metadata": {},
   "source": [
    "Implementing neural net with torch"
   ]
  },
  {
   "cell_type": "code",
   "execution_count": 89,
   "metadata": {},
   "outputs": [],
   "source": [
    "import random\n",
    "class Neuron:\n",
    "    def __init__(self,nin):\n",
    "        self.w = [Value(random.uniform(-1,1)) for _ in range(nin)] # this is the wieght for each input\n",
    "        self.b = Value(random.uniform(-1,1)) # this is the bias\n",
    "    def __call__(self,x):\n",
    "        activation = sum((wi*xi for wi,xi in zip(self.w,x)),self.b) #this decide how important the wieght was\n",
    "        #and how active the neuron will be based onthe values given to it\n",
    "        output= activation.tanh()\n",
    "        return output\n",
    "    def parameters(self):\n",
    "        return self.w + [self.b]\n",
    "        \n",
    "class Layer:\n",
    "    def __init__(self,nin,nout):\n",
    "        self.neurons = [Neuron(nin) for _ in range(nout)]\n",
    "    \n",
    "    def __call__(self,x):\n",
    "        outs = [n(x) for n in self.neurons]\n",
    "        return outs[0] if len(outs) ==1 else outs\n",
    "    def parameters(self):\n",
    "        return [p for neuron in self.neurons for p in neuron.parameters()]\n",
    "        \n",
    "class MLP(object):\n",
    "    def __init__(self,nin,nouts):\n",
    "        sz = [nin] + nouts\n",
    "        self.layers = [Layer(sz[i],sz[i+1] )for i in range(len(nouts))]\n",
    "        \n",
    "    def __call__(self,x):\n",
    "        for layer in self.layers:\n",
    "            x = layer(x)\n",
    "        return x\n",
    "    def parameters(self):\n",
    "        return [p for layer in self.layers for p in layer.parameters()]        \n"
   ]
  },
  {
   "cell_type": "markdown",
   "metadata": {},
   "source": []
  },
  {
   "cell_type": "code",
   "execution_count": 98,
   "metadata": {},
   "outputs": [
    {
     "name": "stdout",
     "output_type": "stream",
     "text": [
      "41\n"
     ]
    }
   ],
   "source": [
    "x=[2.0,3.0,-1] # we have 3 inputs\n",
    "n = MLP(3,[4,4,1]) #3 layers with 2 layers of 4 and one output\n",
    "print(len(n.parameters()))\n",
    "# draw_dot(n(x))"
   ]
  },
  {
   "cell_type": "code",
   "execution_count": 101,
   "metadata": {},
   "outputs": [
    {
     "name": "stdout",
     "output_type": "stream",
     "text": [
      "0 0.02393223718481837\n",
      "1 0.02268186315573097\n",
      "2 0.02155342395616822\n",
      "3 0.02053012609432267\n",
      "4 0.019598097731537926\n",
      "5 0.018745784020046525\n",
      "6 0.01796348584619974\n",
      "7 0.017243003980513504\n",
      "8 0.016577361681404043\n",
      "9 0.0159605863707629\n",
      "10 0.01538753626650661\n",
      "11 0.014853761571629855\n",
      "12 0.014355392472206503\n",
      "13 0.013889048114050765\n",
      "14 0.01345176212871352\n",
      "15 0.01304092131377777\n",
      "16 0.012654214843406385\n",
      "17 0.012289591965043537\n",
      "18 0.011945226578153894\n",
      "19 0.011619487427369943\n"
     ]
    }
   ],
   "source": [
    "# now lets run a simulation with some ground truth and values\n",
    "xs = [\n",
    "    [2.0,3.0,-1.0],\n",
    "    [3.0,-1.0,0.5],\n",
    "    [0.5,1.0,1.0],\n",
    "    [1.0,1.0,-1.0],\n",
    "]\n",
    "\n",
    "ys = [1.0,-1.0,-1.0,1.0] #desired targets\n",
    "\n",
    "\n",
    "\n",
    "for k in range(20):        \n",
    "    \n",
    "    # forward pass\n",
    "    ypred = [n(x) for x in xs]\n",
    "    # calculating the net loss here:\n",
    "    loss = sum(((yout - ygt)**2 for ygt, yout in zip(ys, ypred)), Value(0))\n",
    "    #backward pass\n",
    "    for p in n.parameters():\n",
    "        p.grad = 0.0\n",
    "    loss.backward()\n",
    "    for p in n.parameters():\n",
    "        p.data += -0.05 *p.grad\n",
    "    print(k,loss.data)\n",
    "    #this is the backpropagation to fix the weights\n",
    "    #so based on this value we can check this for each and every node and understand how its gradient affects the output if pos then positively else negative\n",
    "    # we need to reset grad as well"
   ]
  },
  {
   "cell_type": "code",
   "execution_count": 102,
   "metadata": {},
   "outputs": [
    {
     "data": {
      "text/plain": [
       "[Value(data=0.9490980050993489),\n",
       " Value(data=-0.9568730528697812),\n",
       " Value(data=-0.9217709140761899),\n",
       " Value(data=0.9676155764408799)]"
      ]
     },
     "execution_count": 102,
     "metadata": {},
     "output_type": "execute_result"
    }
   ],
   "source": [
    "ypred"
   ]
  },
  {
   "cell_type": "code",
   "execution_count": 95,
   "metadata": {},
   "outputs": [],
   "source": [
    "\n"
   ]
  },
  {
   "cell_type": "code",
   "execution_count": null,
   "metadata": {},
   "outputs": [],
   "source": []
  }
 ],
 "metadata": {
  "kernelspec": {
   "display_name": "maybe-micrograd",
   "language": "python",
   "name": "python3"
  },
  "language_info": {
   "codemirror_mode": {
    "name": "ipython",
    "version": 3
   },
   "file_extension": ".py",
   "mimetype": "text/x-python",
   "name": "python",
   "nbconvert_exporter": "python",
   "pygments_lexer": "ipython3",
   "version": "3.11.7"
  }
 },
 "nbformat": 4,
 "nbformat_minor": 2
}
