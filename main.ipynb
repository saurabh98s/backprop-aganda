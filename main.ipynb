{
 "cells": [
  {
   "cell_type": "markdown",
   "metadata": {},
   "source": [
    "### Creating micrograd for back propagation and tracing a equation through its values\n"
   ]
  },
  {
   "cell_type": "code",
   "execution_count": 2,
   "metadata": {},
   "outputs": [
    {
     "name": "stdout",
     "output_type": "stream",
     "text": [
      "Note: you may need to restart the kernel to use updated packages.\n"
     ]
    },
    {
     "name": "stderr",
     "output_type": "stream",
     "text": [
      "ERROR: Invalid requirement: '#'\n",
      "\n",
      "[notice] A new release of pip is available: 23.2.1 -> 24.2\n",
      "[notice] To update, run: python.exe -m pip install --upgrade pip\n"
     ]
    }
   ],
   "source": [
    "pip install numpy matplotlib # type: ignore"
   ]
  },
  {
   "cell_type": "code",
   "execution_count": 3,
   "metadata": {},
   "outputs": [],
   "source": [
    "import math\n",
    "import numpy as np\n",
    "import matplotlib.pyplot as plt\n",
    "%matplotlib inline\n",
    "\n"
   ]
  },
  {
   "cell_type": "code",
   "execution_count": 4,
   "metadata": {},
   "outputs": [],
   "source": [
    "def f(x): #this is going to be an example of a function that takes in x and returns y as a result of a function\n",
    "    return (4*x**2)- 3*x+5"
   ]
  },
  {
   "cell_type": "code",
   "execution_count": 5,
   "metadata": {},
   "outputs": [
    {
     "data": {
      "text/plain": [
       "32.0"
      ]
     },
     "execution_count": 5,
     "metadata": {},
     "output_type": "execute_result"
    }
   ],
   "source": [
    "f(3.0) "
   ]
  },
  {
   "cell_type": "code",
   "execution_count": 6,
   "metadata": {},
   "outputs": [
    {
     "data": {
      "text/plain": [
       "array([120. , 109.5,  99.5,  90. ,  81. ,  72.5,  64.5,  57. ,  50. ,\n",
       "        43.5,  37.5,  32. ,  27. ,  22.5,  18.5,  15. ,  12. ,   9.5,\n",
       "         7.5,   6. ,   5. ,   4.5,   4.5,   5. ,   6. ,   7.5,   9.5,\n",
       "        12. ,  15. ,  18.5,  22.5,  27. ,  32. ,  37.5,  43.5,  50. ,\n",
       "        57. ,  64.5,  72.5,  81. ])"
      ]
     },
     "execution_count": 6,
     "metadata": {},
     "output_type": "execute_result"
    }
   ],
   "source": [
    "a_few_x = np.arange(-5,5,0.25) #this will generate a few values for x using numpy and set the range from -5 to 5 with 0.25 step up\n",
    "# a_few_x\n",
    "a_few_y = f(a_few_x)\n",
    "a_few_y"
   ]
  },
  {
   "cell_type": "code",
   "execution_count": 7,
   "metadata": {},
   "outputs": [
    {
     "data": {
      "text/plain": [
       "[<matplotlib.lines.Line2D at 0x2c4cad56090>]"
      ]
     },
     "execution_count": 7,
     "metadata": {},
     "output_type": "execute_result"
    },
    {
     "data": {
      "image/png": "[encoded data removed]",
      "text/plain": [
       "<Figure size 640x480 with 1 Axes>"
      ]
     },
     "metadata": {},
     "output_type": "display_data"
    }
   ],
   "source": [
    "plt.plot(a_few_x,a_few_y) #plotting the graph of an quadratic eqn."
   ]
  },
  {
   "cell_type": "code",
   "execution_count": 8,
   "metadata": {},
   "outputs": [
    {
     "name": "stdout",
     "output_type": "stream",
     "text": [
      "32.000000000000014\n"
     ]
    },
    {
     "data": {
      "text/plain": [
       "14.210854715202002"
      ]
     },
     "execution_count": 8,
     "metadata": {},
     "output_type": "execute_result"
    }
   ],
   "source": [
    "h = 0.000000000000001\n",
    "x= 3\n",
    "print(f(x+h))\n",
    "(f(x+h) -f(x))/h #derivative calculation"
   ]
  },
  {
   "cell_type": "code",
   "execution_count": 9,
   "metadata": {},
   "outputs": [
    {
     "data": {
      "text/plain": [
       "4.0"
      ]
     },
     "execution_count": 9,
     "metadata": {},
     "output_type": "execute_result"
    }
   ],
   "source": [
    "a = 2.0\n",
    "b = -3.0\n",
    "c = 10.0\n",
    "d= a*b+c\n",
    "d  "
   ]
  },
  {
   "cell_type": "code",
   "execution_count": 10,
   "metadata": {},
   "outputs": [
    {
     "name": "stdout",
     "output_type": "stream",
     "text": [
      "d1 4.0\n",
      "d2 4.00001\n",
      "slope 0.9999999999621422\n"
     ]
    }
   ],
   "source": [
    "h = 0.00001\n",
    "a = 2.0\n",
    "b = -3.0\n",
    "c = 10.0\n",
    "d1= a*b+c\n",
    "c= c+h\n",
    "d2 = a*b + c\n",
    "print(\"d1\",d1)\n",
    "print(\"d2\",d2)\n",
    "print(\"slope\",(d2-d1)/h)"
   ]
  },
  {
   "cell_type": "markdown",
   "metadata": {},
   "source": [
    "## Now we will write the value object for micrograd"
   ]
  },
  {
   "cell_type": "code",
   "execution_count": 65,
   "metadata": {},
   "outputs": [],
   "source": [
    "class Value:\n",
    "    def __init__(self,data,_children= (),_op='',label=''):\n",
    "        self._backward = lambda:None\n",
    "        self.data = data\n",
    "        self.grad = 0.0 # 0 denotes change in the value doesn't affect the loss function\n",
    "        self._prev = set(_children)\n",
    "        self._op = _op\n",
    "        self.label = label\n",
    "    def __repr__(self):\n",
    "        return f\"Value(data={self.data})\"\n",
    "    \n",
    "    def __add__(self,other):\n",
    "        out = Value(self.data + other.data,(self,other),'+')\\\n",
    "            \n",
    "        #_backward() takes out's grad and then we propagate it to self's grad and then the other's grad \n",
    "        def _backward():\n",
    "            self.grad = 1.0 *out.grad\n",
    "            other.grad = 1.0 *out.grad\n",
    "                 \n",
    "        out._backward = _backward\n",
    "        return out\n",
    "    def __mul__(self,other):\n",
    "        out = Value(self.data * other.data,(self,other),'*')\n",
    "        def _backward():\n",
    "            self.grad = other.data *out.grad\n",
    "            other.grad = self.data *out.grad\n",
    "                 \n",
    "        out._backward = _backward\n",
    "        \n",
    "        return out\n",
    "    def tanh(self):\n",
    "        x = self.data\n",
    "        t = (math.exp(2*x)-1)/(math.exp(2*x)+1)\n",
    "        out = Value(t,(self,),'tanh')\n",
    "        \n",
    "        def _backward():\n",
    "            self.grad = (1- t**2) * out.grad\n",
    "        out._backward = _backward\n",
    "        return out\n",
    "    def backward(self):\n",
    "        ## FYI we recalled the draw_dot() ,method everytime in above _backward steps\n",
    "        #its time to get rid of the manual calling by doing a topological sort\n",
    "\n",
    "        topo = []\n",
    "        visited = set()\n",
    "        def build_topo(v):\n",
    "            if v not in visited:\n",
    "                visited.add(v)\n",
    "                for child in v._prev:\n",
    "                    build_topo(child)\n",
    "                topo.append(v)\n",
    "        build_topo(self)\n",
    "        self.grad = 1.0\n",
    "        for node in reversed(topo):\n",
    "            node._backward()"
   ]
  },
  {
   "cell_type": "code",
   "execution_count": 12,
   "metadata": {},
   "outputs": [
    {
     "data": {
      "text/plain": [
       "Value(data=-8.0)"
      ]
     },
     "execution_count": 12,
     "metadata": {},
     "output_type": "execute_result"
    }
   ],
   "source": [
    "a = Value(2.0,label='a')\n",
    "b = Value(-3.0,label='b')\n",
    "e = a*b\n",
    "e.label = 'e'\n",
    "c = Value(10.0,label='c')\n",
    "d= e + c\n",
    "d.label = 'd'\n",
    "f = Value(-2.0,label='f')\n",
    "L = d*f\n",
    "L.label= 'L'\n",
    "L"
   ]
  },
  {
   "cell_type": "markdown",
   "metadata": {},
   "source": [
    "### visualizing the graph between values"
   ]
  },
  {
   "cell_type": "code",
   "execution_count": 13,
   "metadata": {},
   "outputs": [
    {
     "name": "stdout",
     "output_type": "stream",
     "text": [
      "Note: you may need to restart the kernel to use updated packages.\n"
     ]
    },
    {
     "name": "stderr",
     "output_type": "stream",
     "text": [
      "ERROR: Invalid requirement: '#'\n",
      "\n",
      "[notice] A new release of pip is available: 23.2.1 -> 24.2\n",
      "[notice] To update, run: python.exe -m pip install --upgrade pip\n"
     ]
    }
   ],
   "source": [
    "pip install graphviz # type: ignore"
   ]
  },
  {
   "cell_type": "code",
   "execution_count": 14,
   "metadata": {},
   "outputs": [],
   "source": [
    "from graphviz import Digraph\n",
    "\n",
    "def trace(root):\n",
    "    nodes,edge = set(),set()\n",
    "    def build(v):\n",
    "        if v not in nodes:\n",
    "            nodes.add(v)\n",
    "            for child in v._prev:\n",
    "                edge.add((child,v))\n",
    "                build(child)\n",
    "    build(root)\n",
    "    return nodes,edge\n",
    "\n",
    "def draw_dot(root):\n",
    "    dot = Digraph(format=\"svg\",graph_attr={'rankdir': 'LR'}) #this would mean left to right \n",
    "    nodes,edges = trace(root)\n",
    "    for n in nodes:\n",
    "        uid = str(id(n))\n",
    "        dot.node(name=uid,label=\"{%s | data %.4f |  grad %.4f }\"  % (n.label,n.data,n.grad), shape='record') \n",
    "        if n._op:\n",
    "            dot.node(name=uid+n._op,label=n._op)\n",
    "            dot.edge(uid +n._op,uid)\n",
    "    for n1,n2 in edges:\n",
    "        dot.edge(str(id(n1)),str(id(n2)) +n2._op)\n",
    "    return dot   "
   ]
  },
  {
   "cell_type": "code",
   "execution_count": 15,
   "metadata": {},
   "outputs": [
    {
     "data": {
      "image/svg+xml": [
       "<?xml version=\"1.0\" encoding=\"UTF-8\" standalone=\"no\"?>\n",
       "<!DOCTYPE svg PUBLIC \"-//W3C//DTD SVG 1.1//EN\"\n",
       " \"http://www.w3.org/Graphics/SVG/1.1/DTD/svg11.dtd\">\n",
       "<!-- Generated by graphviz version 12.1.0 (20240811.2233)\n",
       " -->\n",
       "<!-- Pages: 1 -->\n",
       "<svg width=\"1140pt\" height=\"128pt\"\n",
       " viewBox=\"0.00 0.00 1139.75 128.00\" xmlns=\"http://www.w3.org/2000/svg\" xmlns:xlink=\"http://www.w3.org/1999/xlink\">\n",
       "<g id=\"graph0\" class=\"graph\" transform=\"scale(1 1) rotate(0) translate(4 124)\">\n",
       "<polygon fill=\"white\" stroke=\"none\" points=\"-4,4 -4,-124 1135.75,-124 1135.75,4 -4,4\"/>\n",
       "<!-- 3044240753232 -->\n",
       "<g id=\"node1\" class=\"node\">\n",
       "<title>3044240753232</title>\n",
       "<polygon fill=\"none\" stroke=\"black\" points=\"631.12,-27.5 631.12,-63.5 814.88,-63.5 814.88,-27.5 631.12,-27.5\"/>\n",
       "<text text-anchor=\"middle\" x=\"642.5\" y=\"-40.7\" font-family=\"Times New Roman,serif\" font-size=\"14.00\">d</text>\n",
       "<polyline fill=\"none\" stroke=\"black\" points=\"653.88,-28 653.88,-63.5\"/>\n",
       "<text text-anchor=\"middle\" x=\"693.75\" y=\"-40.7\" font-family=\"Times New Roman,serif\" font-size=\"14.00\">data 4.0000</text>\n",
       "<polyline fill=\"none\" stroke=\"black\" points=\"733.62,-28 733.62,-63.5\"/>\n",
       "<text text-anchor=\"middle\" x=\"774.25\" y=\"-40.7\" font-family=\"Times New Roman,serif\" font-size=\"14.00\">grad 0.0000</text>\n",
       "</g>\n",
       "<!-- 3044241036944* -->\n",
       "<g id=\"node5\" class=\"node\">\n",
       "<title>3044241036944*</title>\n",
       "<ellipse fill=\"none\" stroke=\"black\" cx=\"879\" cy=\"-72.5\" rx=\"27\" ry=\"18\"/>\n",
       "<text text-anchor=\"middle\" x=\"879\" y=\"-67.45\" font-family=\"Times New Roman,serif\" font-size=\"14.00\">*</text>\n",
       "</g>\n",
       "<!-- 3044240753232&#45;&gt;3044241036944* -->\n",
       "<g id=\"edge4\" class=\"edge\">\n",
       "<title>3044240753232&#45;&gt;3044241036944*</title>\n",
       "<path fill=\"none\" stroke=\"black\" d=\"M815.36,-61.52C824.5,-63.12 833.36,-64.67 841.4,-66.08\"/>\n",
       "<polygon fill=\"black\" stroke=\"black\" points=\"840.58,-69.49 851.04,-67.77 841.79,-62.6 840.58,-69.49\"/>\n",
       "</g>\n",
       "<!-- 3044240753232+ -->\n",
       "<g id=\"node2\" class=\"node\">\n",
       "<title>3044240753232+</title>\n",
       "<ellipse fill=\"none\" stroke=\"black\" cx=\"567\" cy=\"-45.5\" rx=\"27\" ry=\"18\"/>\n",
       "<text text-anchor=\"middle\" x=\"567\" y=\"-40.45\" font-family=\"Times New Roman,serif\" font-size=\"14.00\">+</text>\n",
       "</g>\n",
       "<!-- 3044240753232+&#45;&gt;3044240753232 -->\n",
       "<g id=\"edge1\" class=\"edge\">\n",
       "<title>3044240753232+&#45;&gt;3044240753232</title>\n",
       "<path fill=\"none\" stroke=\"black\" d=\"M594.47,-45.5C601.87,-45.5 610.38,-45.5 619.43,-45.5\"/>\n",
       "<polygon fill=\"black\" stroke=\"black\" points=\"619.17,-49 629.17,-45.5 619.17,-42 619.17,-49\"/>\n",
       "</g>\n",
       "<!-- 3044241077328 -->\n",
       "<g id=\"node3\" class=\"node\">\n",
       "<title>3044241077328</title>\n",
       "<polygon fill=\"none\" stroke=\"black\" points=\"630,-82.5 630,-118.5 816,-118.5 816,-82.5 630,-82.5\"/>\n",
       "<text text-anchor=\"middle\" x=\"640.25\" y=\"-95.7\" font-family=\"Times New Roman,serif\" font-size=\"14.00\">f</text>\n",
       "<polyline fill=\"none\" stroke=\"black\" points=\"650.5,-83 650.5,-118.5\"/>\n",
       "<text text-anchor=\"middle\" x=\"692.62\" y=\"-95.7\" font-family=\"Times New Roman,serif\" font-size=\"14.00\">data &#45;2.0000</text>\n",
       "<polyline fill=\"none\" stroke=\"black\" points=\"734.75,-83 734.75,-118.5\"/>\n",
       "<text text-anchor=\"middle\" x=\"775.38\" y=\"-95.7\" font-family=\"Times New Roman,serif\" font-size=\"14.00\">grad 0.0000</text>\n",
       "</g>\n",
       "<!-- 3044241077328&#45;&gt;3044241036944* -->\n",
       "<g id=\"edge9\" class=\"edge\">\n",
       "<title>3044241077328&#45;&gt;3044241036944*</title>\n",
       "<path fill=\"none\" stroke=\"black\" d=\"M816.25,-83.73C825.1,-82.12 833.67,-80.56 841.46,-79.14\"/>\n",
       "<polygon fill=\"black\" stroke=\"black\" points=\"841.93,-82.62 851.15,-77.38 840.68,-75.73 841.93,-82.62\"/>\n",
       "</g>\n",
       "<!-- 3044241036944 -->\n",
       "<g id=\"node4\" class=\"node\">\n",
       "<title>3044241036944</title>\n",
       "<polygon fill=\"none\" stroke=\"black\" points=\"942,-54.5 942,-90.5 1131.75,-90.5 1131.75,-54.5 942,-54.5\"/>\n",
       "<text text-anchor=\"middle\" x=\"954.12\" y=\"-67.7\" font-family=\"Times New Roman,serif\" font-size=\"14.00\">L</text>\n",
       "<polyline fill=\"none\" stroke=\"black\" points=\"966.25,-55 966.25,-90.5\"/>\n",
       "<text text-anchor=\"middle\" x=\"1008.38\" y=\"-67.7\" font-family=\"Times New Roman,serif\" font-size=\"14.00\">data &#45;8.0000</text>\n",
       "<polyline fill=\"none\" stroke=\"black\" points=\"1050.5,-55 1050.5,-90.5\"/>\n",
       "<text text-anchor=\"middle\" x=\"1091.12\" y=\"-67.7\" font-family=\"Times New Roman,serif\" font-size=\"14.00\">grad 0.0000</text>\n",
       "</g>\n",
       "<!-- 3044241036944*&#45;&gt;3044241036944 -->\n",
       "<g id=\"edge2\" class=\"edge\">\n",
       "<title>3044241036944*&#45;&gt;3044241036944</title>\n",
       "<path fill=\"none\" stroke=\"black\" d=\"M906.44,-72.5C913.59,-72.5 921.78,-72.5 930.49,-72.5\"/>\n",
       "<polygon fill=\"black\" stroke=\"black\" points=\"930.26,-76 940.26,-72.5 930.26,-69 930.26,-76\"/>\n",
       "</g>\n",
       "<!-- 3044240974736 -->\n",
       "<g id=\"node6\" class=\"node\">\n",
       "<title>3044240974736</title>\n",
       "<polygon fill=\"none\" stroke=\"black\" points=\"315.38,-55.5 315.38,-91.5 502.88,-91.5 502.88,-55.5 315.38,-55.5\"/>\n",
       "<text text-anchor=\"middle\" x=\"326.38\" y=\"-68.7\" font-family=\"Times New Roman,serif\" font-size=\"14.00\">e</text>\n",
       "<polyline fill=\"none\" stroke=\"black\" points=\"337.38,-56 337.38,-91.5\"/>\n",
       "<text text-anchor=\"middle\" x=\"379.5\" y=\"-68.7\" font-family=\"Times New Roman,serif\" font-size=\"14.00\">data &#45;6.0000</text>\n",
       "<polyline fill=\"none\" stroke=\"black\" points=\"421.62,-56 421.62,-91.5\"/>\n",
       "<text text-anchor=\"middle\" x=\"462.25\" y=\"-68.7\" font-family=\"Times New Roman,serif\" font-size=\"14.00\">grad 0.0000</text>\n",
       "</g>\n",
       "<!-- 3044240974736&#45;&gt;3044240753232+ -->\n",
       "<g id=\"edge5\" class=\"edge\">\n",
       "<title>3044240974736&#45;&gt;3044240753232+</title>\n",
       "<path fill=\"none\" stroke=\"black\" d=\"M503.05,-56.81C512.25,-55.16 521.16,-53.56 529.24,-52.1\"/>\n",
       "<polygon fill=\"black\" stroke=\"black\" points=\"529.71,-55.58 538.93,-50.36 528.47,-48.69 529.71,-55.58\"/>\n",
       "</g>\n",
       "<!-- 3044240974736* -->\n",
       "<g id=\"node7\" class=\"node\">\n",
       "<title>3044240974736*</title>\n",
       "<ellipse fill=\"none\" stroke=\"black\" cx=\"251.25\" cy=\"-73.5\" rx=\"27\" ry=\"18\"/>\n",
       "<text text-anchor=\"middle\" x=\"251.25\" y=\"-68.45\" font-family=\"Times New Roman,serif\" font-size=\"14.00\">*</text>\n",
       "</g>\n",
       "<!-- 3044240974736*&#45;&gt;3044240974736 -->\n",
       "<g id=\"edge3\" class=\"edge\">\n",
       "<title>3044240974736*&#45;&gt;3044240974736</title>\n",
       "<path fill=\"none\" stroke=\"black\" d=\"M278.69,-73.5C286.1,-73.5 294.64,-73.5 303.71,-73.5\"/>\n",
       "<polygon fill=\"black\" stroke=\"black\" points=\"303.51,-77 313.51,-73.5 303.51,-70 303.51,-77\"/>\n",
       "</g>\n",
       "<!-- 3044240390416 -->\n",
       "<g id=\"node8\" class=\"node\">\n",
       "<title>3044240390416</title>\n",
       "<polygon fill=\"none\" stroke=\"black\" points=\"2.62,-83.5 2.62,-119.5 185.62,-119.5 185.62,-83.5 2.62,-83.5\"/>\n",
       "<text text-anchor=\"middle\" x=\"13.62\" y=\"-96.7\" font-family=\"Times New Roman,serif\" font-size=\"14.00\">a</text>\n",
       "<polyline fill=\"none\" stroke=\"black\" points=\"24.62,-84 24.62,-119.5\"/>\n",
       "<text text-anchor=\"middle\" x=\"64.5\" y=\"-96.7\" font-family=\"Times New Roman,serif\" font-size=\"14.00\">data 2.0000</text>\n",
       "<polyline fill=\"none\" stroke=\"black\" points=\"104.38,-84 104.38,-119.5\"/>\n",
       "<text text-anchor=\"middle\" x=\"145\" y=\"-96.7\" font-family=\"Times New Roman,serif\" font-size=\"14.00\">grad 0.0000</text>\n",
       "</g>\n",
       "<!-- 3044240390416&#45;&gt;3044240974736* -->\n",
       "<g id=\"edge6\" class=\"edge\">\n",
       "<title>3044240390416&#45;&gt;3044240974736*</title>\n",
       "<path fill=\"none\" stroke=\"black\" d=\"M185.81,-85.13C195.66,-83.35 205.21,-81.63 213.82,-80.08\"/>\n",
       "<polygon fill=\"black\" stroke=\"black\" points=\"214.19,-83.57 223.41,-78.34 212.95,-76.68 214.19,-83.57\"/>\n",
       "</g>\n",
       "<!-- 3044230993744 -->\n",
       "<g id=\"node9\" class=\"node\">\n",
       "<title>3044230993744</title>\n",
       "<polygon fill=\"none\" stroke=\"black\" points=\"314.25,-0.5 314.25,-36.5 504,-36.5 504,-0.5 314.25,-0.5\"/>\n",
       "<text text-anchor=\"middle\" x=\"325.25\" y=\"-13.7\" font-family=\"Times New Roman,serif\" font-size=\"14.00\">c</text>\n",
       "<polyline fill=\"none\" stroke=\"black\" points=\"336.25,-1 336.25,-36.5\"/>\n",
       "<text text-anchor=\"middle\" x=\"379.5\" y=\"-13.7\" font-family=\"Times New Roman,serif\" font-size=\"14.00\">data 10.0000</text>\n",
       "<polyline fill=\"none\" stroke=\"black\" points=\"422.75,-1 422.75,-36.5\"/>\n",
       "<text text-anchor=\"middle\" x=\"463.38\" y=\"-13.7\" font-family=\"Times New Roman,serif\" font-size=\"14.00\">grad 0.0000</text>\n",
       "</g>\n",
       "<!-- 3044230993744&#45;&gt;3044240753232+ -->\n",
       "<g id=\"edge7\" class=\"edge\">\n",
       "<title>3044230993744&#45;&gt;3044240753232+</title>\n",
       "<path fill=\"none\" stroke=\"black\" d=\"M504.39,-34.83C513.16,-36.35 521.65,-37.82 529.37,-39.15\"/>\n",
       "<polygon fill=\"black\" stroke=\"black\" points=\"528.5,-42.56 538.95,-40.81 529.69,-35.66 528.5,-42.56\"/>\n",
       "</g>\n",
       "<!-- 3044240881040 -->\n",
       "<g id=\"node10\" class=\"node\">\n",
       "<title>3044240881040</title>\n",
       "<polygon fill=\"none\" stroke=\"black\" points=\"0,-28.5 0,-64.5 188.25,-64.5 188.25,-28.5 0,-28.5\"/>\n",
       "<text text-anchor=\"middle\" x=\"11.38\" y=\"-41.7\" font-family=\"Times New Roman,serif\" font-size=\"14.00\">b</text>\n",
       "<polyline fill=\"none\" stroke=\"black\" points=\"22.75,-29 22.75,-64.5\"/>\n",
       "<text text-anchor=\"middle\" x=\"64.88\" y=\"-41.7\" font-family=\"Times New Roman,serif\" font-size=\"14.00\">data &#45;3.0000</text>\n",
       "<polyline fill=\"none\" stroke=\"black\" points=\"107,-29 107,-64.5\"/>\n",
       "<text text-anchor=\"middle\" x=\"147.62\" y=\"-41.7\" font-family=\"Times New Roman,serif\" font-size=\"14.00\">grad 0.0000</text>\n",
       "</g>\n",
       "<!-- 3044240881040&#45;&gt;3044240974736* -->\n",
       "<g id=\"edge8\" class=\"edge\">\n",
       "<title>3044240881040&#45;&gt;3044240974736*</title>\n",
       "<path fill=\"none\" stroke=\"black\" d=\"M188.49,-62.75C197.27,-64.28 205.77,-65.76 213.51,-67.1\"/>\n",
       "<polygon fill=\"black\" stroke=\"black\" points=\"212.66,-70.51 223.11,-68.78 213.86,-63.61 212.66,-70.51\"/>\n",
       "</g>\n",
       "</g>\n",
       "</svg>\n"
      ],
      "text/plain": [
       "<graphviz.graphs.Digraph at 0x2c4ab683850>"
      ]
     },
     "execution_count": 15,
     "metadata": {},
     "output_type": "execute_result"
    }
   ],
   "source": [
    "draw_dot(L)"
   ]
  },
  {
   "cell_type": "markdown",
   "metadata": {},
   "source": [
    "now we need to do \n",
    "L = d*f\n",
    "so we get \n",
    "dL/dd = f\n",
    "how did we get this:\n",
    "(f(x+h) - f(x))/h\n",
    "now \n",
    "((d+h) *f - d*f)/h\n",
    "(df +hf - df) / h\n",
    "df cancells out\n",
    "we get\n",
    "hf/h\n",
    "so f"
   ]
  },
  {
   "cell_type": "markdown",
   "metadata": {},
   "source": [
    "so dl/df = d and dl/dd = f"
   ]
  },
  {
   "cell_type": "code",
   "execution_count": 16,
   "metadata": {},
   "outputs": [],
   "source": [
    "f.grad = 4.0 #value of d\n",
    "d.grad = -2.0 # value of f\n",
    "L.grad = 1.0 # dl/dl = 1\n",
    "c.grad = -2.0 #(explained below)\n",
    "# now similarily e will also be\n",
    "e.grad = -2.0\n",
    "a.grad = -3.0 * -2.0\n",
    "b.grad = 2.0 *-2.0 \n",
    "# also we understand than any plus node will simply distribute \n",
    "# the nodes values to the leaf nodes and thus passing on the same values \n",
    "# so here we can say that since d is linked through the plus node with c and e \n",
    "# we get the value repeated there in there grad values"
   ]
  },
  {
   "cell_type": "markdown",
   "metadata": {},
   "source": [
    "#### we are able to build out mathematical expression, using only scalar values and + and - signs and we can do a forward pass, and trace the expression that produces the output L\n",
    "#### forward propagation, now we we do back propagation finding derivatives with respect to different values\n"
   ]
  },
  {
   "cell_type": "markdown",
   "metadata": {},
   "source": [
    "now we need to find dl/dc for that we need to understand chain rule (see notebook),\n",
    "but essentially it means \n",
    "dl/dc = dl/dd * dd/dc\n",
    "we know dl/dd = -2.0\n",
    "also dd/dc = 1.0\n",
    "so dl/dc = -2.0 or f"
   ]
  },
  {
   "cell_type": "markdown",
   "metadata": {},
   "source": [
    "now we need the final nodes, dl/de = -2 we know this\n",
    "we want dl/da , so chain rule says\n",
    "dl/de = dl/de *de/da\n",
    "so if we solve this de/da we get d(ab)/da = b and then a for d(ab)/db "
   ]
  },
  {
   "cell_type": "code",
   "execution_count": null,
   "metadata": {},
   "outputs": [],
   "source": []
  },
  {
   "cell_type": "code",
   "execution_count": 17,
   "metadata": {},
   "outputs": [],
   "source": [
    "def derive():\n",
    "    a = Value(2.0,label='a')\n",
    "    b = Value(-3.0,label='b')\n",
    "    e = a*b\n",
    "    e.label = 'e'\n",
    "    c = Value(10.0,label='c')\n",
    "    d= e + c\n",
    "    d.label = 'd'\n",
    "    f = Value(-2.0,label='f')\n",
    "    L = d*f\n",
    "    L.label= 'L'\n",
    "    L1 = L.data\n",
    "    # print(L1)\n",
    "    h = 0.001\n",
    "    a = Value(2.0,label='a')\n",
    "    b = Value(-3.0,label='b')\n",
    "    e = a*b\n",
    "    c = Value(10.0,label='c')\n",
    "    c.data+=h\n",
    "    d= e + c\n",
    "    d.label = 'd'\n",
    "    e.label = 'e'\n",
    "    f = Value(-2.0,label='f')\n",
    "    L = d*f\n",
    "    L.label= 'L'\n",
    "    L2 = L.data\n",
    "    print(\"result\",(L2-L1)/h)"
   ]
  },
  {
   "cell_type": "code",
   "execution_count": 18,
   "metadata": {},
   "outputs": [
    {
     "name": "stdout",
     "output_type": "stream",
     "text": [
      "result -1.9999999999988916\n"
     ]
    }
   ],
   "source": [
    "derive()"
   ]
  },
  {
   "cell_type": "code",
   "execution_count": 66,
   "metadata": {},
   "outputs": [],
   "source": [
    "x1 = Value(2.0,label=\"x1\")\n",
    "x2 = Value(0.0,label=\"x2\")\n",
    "w1 = Value(-3.0,label=\"w1\")\n",
    "w2 = Value(1.0,label=\"w2\")\n",
    "b = Value(6.8813735870195432,label=\"b\")\n",
    "x1w1 = x1*w1 ; x1w1.label=\"x1w1\"\n",
    "x2w2 = x2*w2 ; x2w2.label = \"x2w2\"\n",
    "x1w1x2w2 = x1w1 +x2w2; x1w1x2w2.label=\"x1w1 + x2w2\"\n",
    "n = x1w1x2w2 +b; n.label='n'\n",
    "o = n.tanh()\n",
    "o.label = 'o'\n",
    "\n",
    "\n"
   ]
  },
  {
   "cell_type": "code",
   "execution_count": 31,
   "metadata": {},
   "outputs": [
    {
     "data": {
      "text/plain": [
       "0.4999999999999999"
      ]
     },
     "execution_count": 31,
     "metadata": {},
     "output_type": "execute_result"
    }
   ],
   "source": [
    "\n",
    "## now we need to find derivative of o w.r.t to the rest of the things\n",
    "# so we begin with do/do = 1, then we back propagate and we need do/dn\n",
    "# we know do/dn = d(tanh)/dn = 1- tanh**2(h)\n",
    "# then we have tan h = o\n",
    "# 1- o**2\n",
    "1- o.data **2\n",
    "\n",
    "\n",
    "n.grad = 0.5\n",
    "## now we also now plus is just a distributor of gradient,so it will just flow down\n",
    "b.grad = n.grad\n",
    "x1w1x2w2.grad = n.grad\n",
    "x1w1.grad = x1w1x2w2.grad\n",
    "x2w2.grad = x1w1x2w2.grad\n",
    "# now we have the first nodes since they are x1,w1,x2,w2, we have chain rule here\n",
    "x2.grad = x2w2.grad* w2.data \n",
    "w2.grad = x2w2.grad* x2.data \n",
    "x1.grad = x1w1.grad * w1.data\n",
    "w1.grad = x1w1.grad * x1.data\n",
    "\n",
    "\n",
    "\n"
   ]
  },
  {
   "cell_type": "code",
   "execution_count": 69,
   "metadata": {},
   "outputs": [
    {
     "data": {
      "image/svg+xml": [
       "<?xml version=\"1.0\" encoding=\"UTF-8\" standalone=\"no\"?>\n",
       "<!DOCTYPE svg PUBLIC \"-//W3C//DTD SVG 1.1//EN\"\n",
       " \"http://www.w3.org/Graphics/SVG/1.1/DTD/svg11.dtd\">\n",
       "<!-- Generated by graphviz version 12.1.0 (20240811.2233)\n",
       " -->\n",
       "<!-- Pages: 1 -->\n",
       "<svg width=\"1546pt\" height=\"210pt\"\n",
       " viewBox=\"0.00 0.00 1546.25 210.00\" xmlns=\"http://www.w3.org/2000/svg\" xmlns:xlink=\"http://www.w3.org/1999/xlink\">\n",
       "<g id=\"graph0\" class=\"graph\" transform=\"scale(1 1) rotate(0) translate(4 206)\">\n",
       "<polygon fill=\"white\" stroke=\"none\" points=\"-4,4 -4,-206 1542.25,-206 1542.25,4 -4,4\"/>\n",
       "<!-- 3044277329936 -->\n",
       "<g id=\"node1\" class=\"node\">\n",
       "<title>3044277329936</title>\n",
       "<polygon fill=\"none\" stroke=\"black\" points=\"326.25,-55.5 326.25,-91.5 533.25,-91.5 533.25,-55.5 326.25,-55.5\"/>\n",
       "<text text-anchor=\"middle\" x=\"349.25\" y=\"-68.7\" font-family=\"Times New Roman,serif\" font-size=\"14.00\">x2w2</text>\n",
       "<polyline fill=\"none\" stroke=\"black\" points=\"372.25,-56 372.25,-91.5\"/>\n",
       "<text text-anchor=\"middle\" x=\"412.12\" y=\"-68.7\" font-family=\"Times New Roman,serif\" font-size=\"14.00\">data 0.0000</text>\n",
       "<polyline fill=\"none\" stroke=\"black\" points=\"452,-56 452,-91.5\"/>\n",
       "<text text-anchor=\"middle\" x=\"492.62\" y=\"-68.7\" font-family=\"Times New Roman,serif\" font-size=\"14.00\">grad 0.5000</text>\n",
       "</g>\n",
       "<!-- 3044276758736+ -->\n",
       "<g id=\"node9\" class=\"node\">\n",
       "<title>3044276758736+</title>\n",
       "<ellipse fill=\"none\" stroke=\"black\" cx=\"598.5\" cy=\"-100.5\" rx=\"27\" ry=\"18\"/>\n",
       "<text text-anchor=\"middle\" x=\"598.5\" y=\"-95.45\" font-family=\"Times New Roman,serif\" font-size=\"14.00\">+</text>\n",
       "</g>\n",
       "<!-- 3044277329936&#45;&gt;3044276758736+ -->\n",
       "<g id=\"edge13\" class=\"edge\">\n",
       "<title>3044277329936&#45;&gt;3044276758736+</title>\n",
       "<path fill=\"none\" stroke=\"black\" d=\"M533.51,-90.14C543.16,-91.7 552.45,-93.21 560.82,-94.56\"/>\n",
       "<polygon fill=\"black\" stroke=\"black\" points=\"560.05,-97.98 570.48,-96.12 561.16,-91.07 560.05,-97.98\"/>\n",
       "</g>\n",
       "<!-- 3044277329936* -->\n",
       "<g id=\"node2\" class=\"node\">\n",
       "<title>3044277329936*</title>\n",
       "<ellipse fill=\"none\" stroke=\"black\" cx=\"261\" cy=\"-73.5\" rx=\"27\" ry=\"18\"/>\n",
       "<text text-anchor=\"middle\" x=\"261\" y=\"-68.45\" font-family=\"Times New Roman,serif\" font-size=\"14.00\">*</text>\n",
       "</g>\n",
       "<!-- 3044277329936*&#45;&gt;3044277329936 -->\n",
       "<g id=\"edge1\" class=\"edge\">\n",
       "<title>3044277329936*&#45;&gt;3044277329936</title>\n",
       "<path fill=\"none\" stroke=\"black\" d=\"M288.42,-73.5C296.08,-73.5 304.96,-73.5 314.47,-73.5\"/>\n",
       "<polygon fill=\"black\" stroke=\"black\" points=\"314.37,-77 324.37,-73.5 314.37,-70 314.37,-77\"/>\n",
       "</g>\n",
       "<!-- 3044276756048 -->\n",
       "<g id=\"node3\" class=\"node\">\n",
       "<title>3044276756048</title>\n",
       "<polygon fill=\"none\" stroke=\"black\" points=\"1044.75,-109.5 1044.75,-145.5 1228.5,-145.5 1228.5,-109.5 1044.75,-109.5\"/>\n",
       "<text text-anchor=\"middle\" x=\"1056.12\" y=\"-122.7\" font-family=\"Times New Roman,serif\" font-size=\"14.00\">n</text>\n",
       "<polyline fill=\"none\" stroke=\"black\" points=\"1067.5,-110 1067.5,-145.5\"/>\n",
       "<text text-anchor=\"middle\" x=\"1107.38\" y=\"-122.7\" font-family=\"Times New Roman,serif\" font-size=\"14.00\">data 0.8814</text>\n",
       "<polyline fill=\"none\" stroke=\"black\" points=\"1147.25,-110 1147.25,-145.5\"/>\n",
       "<text text-anchor=\"middle\" x=\"1187.88\" y=\"-122.7\" font-family=\"Times New Roman,serif\" font-size=\"14.00\">grad 0.5000</text>\n",
       "</g>\n",
       "<!-- 3044276757712tanh -->\n",
       "<g id=\"node7\" class=\"node\">\n",
       "<title>3044276757712tanh</title>\n",
       "<ellipse fill=\"none\" stroke=\"black\" cx=\"1291.5\" cy=\"-127.5\" rx=\"27\" ry=\"18\"/>\n",
       "<text text-anchor=\"middle\" x=\"1291.5\" y=\"-122.45\" font-family=\"Times New Roman,serif\" font-size=\"14.00\">tanh</text>\n",
       "</g>\n",
       "<!-- 3044276756048&#45;&gt;3044276757712tanh -->\n",
       "<g id=\"edge11\" class=\"edge\">\n",
       "<title>3044276756048&#45;&gt;3044276757712tanh</title>\n",
       "<path fill=\"none\" stroke=\"black\" d=\"M1228.76,-127.5C1237.14,-127.5 1245.27,-127.5 1252.73,-127.5\"/>\n",
       "<polygon fill=\"black\" stroke=\"black\" points=\"1252.7,-131 1262.7,-127.5 1252.7,-124 1252.7,-131\"/>\n",
       "</g>\n",
       "<!-- 3044276756048+ -->\n",
       "<g id=\"node4\" class=\"node\">\n",
       "<title>3044276756048+</title>\n",
       "<ellipse fill=\"none\" stroke=\"black\" cx=\"981.75\" cy=\"-127.5\" rx=\"27\" ry=\"18\"/>\n",
       "<text text-anchor=\"middle\" x=\"981.75\" y=\"-122.45\" font-family=\"Times New Roman,serif\" font-size=\"14.00\">+</text>\n",
       "</g>\n",
       "<!-- 3044276756048+&#45;&gt;3044276756048 -->\n",
       "<g id=\"edge2\" class=\"edge\">\n",
       "<title>3044276756048+&#45;&gt;3044276756048</title>\n",
       "<path fill=\"none\" stroke=\"black\" d=\"M1009.03,-127.5C1016.17,-127.5 1024.36,-127.5 1033.07,-127.5\"/>\n",
       "<polygon fill=\"black\" stroke=\"black\" points=\"1032.81,-131 1042.81,-127.5 1032.81,-124 1032.81,-131\"/>\n",
       "</g>\n",
       "<!-- 3044278088784 -->\n",
       "<g id=\"node5\" class=\"node\">\n",
       "<title>3044278088784</title>\n",
       "<polygon fill=\"none\" stroke=\"black\" points=\"698.25,-137.5 698.25,-173.5 882,-173.5 882,-137.5 698.25,-137.5\"/>\n",
       "<text text-anchor=\"middle\" x=\"709.62\" y=\"-150.7\" font-family=\"Times New Roman,serif\" font-size=\"14.00\">b</text>\n",
       "<polyline fill=\"none\" stroke=\"black\" points=\"721,-138 721,-173.5\"/>\n",
       "<text text-anchor=\"middle\" x=\"760.88\" y=\"-150.7\" font-family=\"Times New Roman,serif\" font-size=\"14.00\">data 6.8814</text>\n",
       "<polyline fill=\"none\" stroke=\"black\" points=\"800.75,-138 800.75,-173.5\"/>\n",
       "<text text-anchor=\"middle\" x=\"841.38\" y=\"-150.7\" font-family=\"Times New Roman,serif\" font-size=\"14.00\">grad 0.5000</text>\n",
       "</g>\n",
       "<!-- 3044278088784&#45;&gt;3044276756048+ -->\n",
       "<g id=\"edge9\" class=\"edge\">\n",
       "<title>3044278088784&#45;&gt;3044276756048+</title>\n",
       "<path fill=\"none\" stroke=\"black\" d=\"M882.33,-142.03C904.17,-138.81 926.27,-135.54 943.98,-132.93\"/>\n",
       "<polygon fill=\"black\" stroke=\"black\" points=\"944.33,-136.42 953.71,-131.49 943.31,-129.49 944.33,-136.42\"/>\n",
       "</g>\n",
       "<!-- 3044276757712 -->\n",
       "<g id=\"node6\" class=\"node\">\n",
       "<title>3044276757712</title>\n",
       "<polygon fill=\"none\" stroke=\"black\" points=\"1354.5,-109.5 1354.5,-145.5 1538.25,-145.5 1538.25,-109.5 1354.5,-109.5\"/>\n",
       "<text text-anchor=\"middle\" x=\"1365.88\" y=\"-122.7\" font-family=\"Times New Roman,serif\" font-size=\"14.00\">o</text>\n",
       "<polyline fill=\"none\" stroke=\"black\" points=\"1377.25,-110 1377.25,-145.5\"/>\n",
       "<text text-anchor=\"middle\" x=\"1417.12\" y=\"-122.7\" font-family=\"Times New Roman,serif\" font-size=\"14.00\">data 0.7071</text>\n",
       "<polyline fill=\"none\" stroke=\"black\" points=\"1457,-110 1457,-145.5\"/>\n",
       "<text text-anchor=\"middle\" x=\"1497.62\" y=\"-122.7\" font-family=\"Times New Roman,serif\" font-size=\"14.00\">grad 1.0000</text>\n",
       "</g>\n",
       "<!-- 3044276757712tanh&#45;&gt;3044276757712 -->\n",
       "<g id=\"edge3\" class=\"edge\">\n",
       "<title>3044276757712tanh&#45;&gt;3044276757712</title>\n",
       "<path fill=\"none\" stroke=\"black\" d=\"M1318.78,-127.5C1325.92,-127.5 1334.11,-127.5 1342.82,-127.5\"/>\n",
       "<polygon fill=\"black\" stroke=\"black\" points=\"1342.56,-131 1352.56,-127.5 1342.56,-124 1342.56,-131\"/>\n",
       "</g>\n",
       "<!-- 3044276758736 -->\n",
       "<g id=\"node8\" class=\"node\">\n",
       "<title>3044276758736</title>\n",
       "<polygon fill=\"none\" stroke=\"black\" points=\"661.5,-82.5 661.5,-118.5 918.75,-118.5 918.75,-82.5 661.5,-82.5\"/>\n",
       "<text text-anchor=\"middle\" x=\"707.38\" y=\"-95.7\" font-family=\"Times New Roman,serif\" font-size=\"14.00\">x1w1 + x2w2</text>\n",
       "<polyline fill=\"none\" stroke=\"black\" points=\"753.25,-83 753.25,-118.5\"/>\n",
       "<text text-anchor=\"middle\" x=\"795.38\" y=\"-95.7\" font-family=\"Times New Roman,serif\" font-size=\"14.00\">data &#45;6.0000</text>\n",
       "<polyline fill=\"none\" stroke=\"black\" points=\"837.5,-83 837.5,-118.5\"/>\n",
       "<text text-anchor=\"middle\" x=\"878.12\" y=\"-95.7\" font-family=\"Times New Roman,serif\" font-size=\"14.00\">grad 0.5000</text>\n",
       "</g>\n",
       "<!-- 3044276758736&#45;&gt;3044276756048+ -->\n",
       "<g id=\"edge14\" class=\"edge\">\n",
       "<title>3044276758736&#45;&gt;3044276756048+</title>\n",
       "<path fill=\"none\" stroke=\"black\" d=\"M919.18,-118.73C927.81,-119.96 936.02,-121.13 943.46,-122.19\"/>\n",
       "<polygon fill=\"black\" stroke=\"black\" points=\"942.96,-125.65 953.35,-123.6 943.94,-118.72 942.96,-125.65\"/>\n",
       "</g>\n",
       "<!-- 3044276758736+&#45;&gt;3044276758736 -->\n",
       "<g id=\"edge4\" class=\"edge\">\n",
       "<title>3044276758736+&#45;&gt;3044276758736</title>\n",
       "<path fill=\"none\" stroke=\"black\" d=\"M625.87,-100.5C632.88,-100.5 640.96,-100.5 649.7,-100.5\"/>\n",
       "<polygon fill=\"black\" stroke=\"black\" points=\"649.57,-104 659.57,-100.5 649.57,-97 649.57,-104\"/>\n",
       "</g>\n",
       "<!-- 3044277337296 -->\n",
       "<g id=\"node10\" class=\"node\">\n",
       "<title>3044277337296</title>\n",
       "<polygon fill=\"none\" stroke=\"black\" points=\"1.5,-165.5 1.5,-201.5 196.5,-201.5 196.5,-165.5 1.5,-165.5\"/>\n",
       "<text text-anchor=\"middle\" x=\"16.25\" y=\"-178.7\" font-family=\"Times New Roman,serif\" font-size=\"14.00\">x1</text>\n",
       "<polyline fill=\"none\" stroke=\"black\" points=\"31,-166 31,-201.5\"/>\n",
       "<text text-anchor=\"middle\" x=\"70.88\" y=\"-178.7\" font-family=\"Times New Roman,serif\" font-size=\"14.00\">data 2.0000</text>\n",
       "<polyline fill=\"none\" stroke=\"black\" points=\"110.75,-166 110.75,-201.5\"/>\n",
       "<text text-anchor=\"middle\" x=\"153.62\" y=\"-178.7\" font-family=\"Times New Roman,serif\" font-size=\"14.00\">grad &#45;1.5000</text>\n",
       "</g>\n",
       "<!-- 3044277330192* -->\n",
       "<g id=\"node12\" class=\"node\">\n",
       "<title>3044277330192*</title>\n",
       "<ellipse fill=\"none\" stroke=\"black\" cx=\"261\" cy=\"-128.5\" rx=\"27\" ry=\"18\"/>\n",
       "<text text-anchor=\"middle\" x=\"261\" y=\"-123.45\" font-family=\"Times New Roman,serif\" font-size=\"14.00\">*</text>\n",
       "</g>\n",
       "<!-- 3044277337296&#45;&gt;3044277330192* -->\n",
       "<g id=\"edge7\" class=\"edge\">\n",
       "<title>3044277337296&#45;&gt;3044277330192*</title>\n",
       "<path fill=\"none\" stroke=\"black\" d=\"M172.12,-165.01C180.9,-162.35 189.7,-159.5 198,-156.5 208.09,-152.86 218.82,-148.27 228.47,-143.88\"/>\n",
       "<polygon fill=\"black\" stroke=\"black\" points=\"229.86,-147.09 237.45,-139.69 226.9,-140.75 229.86,-147.09\"/>\n",
       "</g>\n",
       "<!-- 3044277330192 -->\n",
       "<g id=\"node11\" class=\"node\">\n",
       "<title>3044277330192</title>\n",
       "<polygon fill=\"none\" stroke=\"black\" points=\"324,-110.5 324,-146.5 535.5,-146.5 535.5,-110.5 324,-110.5\"/>\n",
       "<text text-anchor=\"middle\" x=\"347\" y=\"-123.7\" font-family=\"Times New Roman,serif\" font-size=\"14.00\">x1w1</text>\n",
       "<polyline fill=\"none\" stroke=\"black\" points=\"370,-111 370,-146.5\"/>\n",
       "<text text-anchor=\"middle\" x=\"412.12\" y=\"-123.7\" font-family=\"Times New Roman,serif\" font-size=\"14.00\">data &#45;6.0000</text>\n",
       "<polyline fill=\"none\" stroke=\"black\" points=\"454.25,-111 454.25,-146.5\"/>\n",
       "<text text-anchor=\"middle\" x=\"494.88\" y=\"-123.7\" font-family=\"Times New Roman,serif\" font-size=\"14.00\">grad 0.5000</text>\n",
       "</g>\n",
       "<!-- 3044277330192&#45;&gt;3044276758736+ -->\n",
       "<g id=\"edge12\" class=\"edge\">\n",
       "<title>3044277330192&#45;&gt;3044276758736+</title>\n",
       "<path fill=\"none\" stroke=\"black\" d=\"M535.88,-110.85C544.59,-109.38 552.96,-107.98 560.56,-106.7\"/>\n",
       "<polygon fill=\"black\" stroke=\"black\" points=\"561.06,-110.17 570.34,-105.06 559.9,-103.26 561.06,-110.17\"/>\n",
       "</g>\n",
       "<!-- 3044277330192*&#45;&gt;3044277330192 -->\n",
       "<g id=\"edge5\" class=\"edge\">\n",
       "<title>3044277330192*&#45;&gt;3044277330192</title>\n",
       "<path fill=\"none\" stroke=\"black\" d=\"M288.42,-128.5C295.52,-128.5 303.68,-128.5 312.42,-128.5\"/>\n",
       "<polygon fill=\"black\" stroke=\"black\" points=\"312.24,-132 322.24,-128.5 312.24,-125 312.24,-132\"/>\n",
       "</g>\n",
       "<!-- 3044241075024 -->\n",
       "<g id=\"node13\" class=\"node\">\n",
       "<title>3044241075024</title>\n",
       "<polygon fill=\"none\" stroke=\"black\" points=\"3.75,-55.5 3.75,-91.5 194.25,-91.5 194.25,-55.5 3.75,-55.5\"/>\n",
       "<text text-anchor=\"middle\" x=\"18.5\" y=\"-68.7\" font-family=\"Times New Roman,serif\" font-size=\"14.00\">x2</text>\n",
       "<polyline fill=\"none\" stroke=\"black\" points=\"33.25,-56 33.25,-91.5\"/>\n",
       "<text text-anchor=\"middle\" x=\"73.12\" y=\"-68.7\" font-family=\"Times New Roman,serif\" font-size=\"14.00\">data 0.0000</text>\n",
       "<polyline fill=\"none\" stroke=\"black\" points=\"113,-56 113,-91.5\"/>\n",
       "<text text-anchor=\"middle\" x=\"153.62\" y=\"-68.7\" font-family=\"Times New Roman,serif\" font-size=\"14.00\">grad 0.5000</text>\n",
       "</g>\n",
       "<!-- 3044241075024&#45;&gt;3044277329936* -->\n",
       "<g id=\"edge8\" class=\"edge\">\n",
       "<title>3044241075024&#45;&gt;3044277329936*</title>\n",
       "<path fill=\"none\" stroke=\"black\" d=\"M194.46,-73.5C204.21,-73.5 213.66,-73.5 222.21,-73.5\"/>\n",
       "<polygon fill=\"black\" stroke=\"black\" points=\"222.12,-77 232.12,-73.5 222.12,-70 222.12,-77\"/>\n",
       "</g>\n",
       "<!-- 3044277325776 -->\n",
       "<g id=\"node14\" class=\"node\">\n",
       "<title>3044277325776</title>\n",
       "<polygon fill=\"none\" stroke=\"black\" points=\"0,-110.5 0,-146.5 198,-146.5 198,-110.5 0,-110.5\"/>\n",
       "<text text-anchor=\"middle\" x=\"16.25\" y=\"-123.7\" font-family=\"Times New Roman,serif\" font-size=\"14.00\">w1</text>\n",
       "<polyline fill=\"none\" stroke=\"black\" points=\"32.5,-111 32.5,-146.5\"/>\n",
       "<text text-anchor=\"middle\" x=\"74.62\" y=\"-123.7\" font-family=\"Times New Roman,serif\" font-size=\"14.00\">data &#45;3.0000</text>\n",
       "<polyline fill=\"none\" stroke=\"black\" points=\"116.75,-111 116.75,-146.5\"/>\n",
       "<text text-anchor=\"middle\" x=\"157.38\" y=\"-123.7\" font-family=\"Times New Roman,serif\" font-size=\"14.00\">grad 1.0000</text>\n",
       "</g>\n",
       "<!-- 3044277325776&#45;&gt;3044277330192* -->\n",
       "<g id=\"edge10\" class=\"edge\">\n",
       "<title>3044277325776&#45;&gt;3044277330192*</title>\n",
       "<path fill=\"none\" stroke=\"black\" d=\"M198.14,-128.5C206.61,-128.5 214.8,-128.5 222.29,-128.5\"/>\n",
       "<polygon fill=\"black\" stroke=\"black\" points=\"222.29,-132 232.29,-128.5 222.29,-125 222.29,-132\"/>\n",
       "</g>\n",
       "<!-- 3044277328336 -->\n",
       "<g id=\"node15\" class=\"node\">\n",
       "<title>3044277328336</title>\n",
       "<polygon fill=\"none\" stroke=\"black\" points=\"2.25,-0.5 2.25,-36.5 195.75,-36.5 195.75,-0.5 2.25,-0.5\"/>\n",
       "<text text-anchor=\"middle\" x=\"18.5\" y=\"-13.7\" font-family=\"Times New Roman,serif\" font-size=\"14.00\">w2</text>\n",
       "<polyline fill=\"none\" stroke=\"black\" points=\"34.75,-1 34.75,-36.5\"/>\n",
       "<text text-anchor=\"middle\" x=\"74.62\" y=\"-13.7\" font-family=\"Times New Roman,serif\" font-size=\"14.00\">data 1.0000</text>\n",
       "<polyline fill=\"none\" stroke=\"black\" points=\"114.5,-1 114.5,-36.5\"/>\n",
       "<text text-anchor=\"middle\" x=\"155.12\" y=\"-13.7\" font-family=\"Times New Roman,serif\" font-size=\"14.00\">grad 0.0000</text>\n",
       "</g>\n",
       "<!-- 3044277328336&#45;&gt;3044277329936* -->\n",
       "<g id=\"edge6\" class=\"edge\">\n",
       "<title>3044277328336&#45;&gt;3044277329936*</title>\n",
       "<path fill=\"none\" stroke=\"black\" d=\"M168.91,-36.94C178.74,-39.93 188.67,-43.15 198,-46.5 207.96,-50.07 218.58,-54.47 228.18,-58.68\"/>\n",
       "<polygon fill=\"black\" stroke=\"black\" points=\"226.54,-61.78 237.1,-62.67 229.4,-55.39 226.54,-61.78\"/>\n",
       "</g>\n",
       "</g>\n",
       "</svg>\n"
      ],
      "text/plain": [
       "<graphviz.graphs.Digraph at 0x2c4ca984fd0>"
      ]
     },
     "execution_count": 69,
     "metadata": {},
     "output_type": "execute_result"
    }
   ],
   "source": [
    "draw_dot(o)"
   ]
  },
  {
   "cell_type": "code",
   "execution_count": 68,
   "metadata": {},
   "outputs": [],
   "source": [
    "# now we wrote the backward function so we are going to call it in the order it is supposed to be\n",
    "o.grad = 1.0\n",
    "\n",
    "o.backward()"
   ]
  },
  {
   "cell_type": "code",
   "execution_count": null,
   "metadata": {},
   "outputs": [],
   "source": [
    "o._backward()"
   ]
  },
  {
   "cell_type": "code",
   "execution_count": 49,
   "metadata": {},
   "outputs": [],
   "source": [
    "n._backward()"
   ]
  },
  {
   "cell_type": "code",
   "execution_count": 51,
   "metadata": {},
   "outputs": [],
   "source": [
    "b._backward()"
   ]
  },
  {
   "cell_type": "code",
   "execution_count": 53,
   "metadata": {},
   "outputs": [],
   "source": [
    "x1w1x2w2._backward()"
   ]
  },
  {
   "cell_type": "code",
   "execution_count": 55,
   "metadata": {},
   "outputs": [],
   "source": [
    "x1w1._backward()"
   ]
  },
  {
   "cell_type": "code",
   "execution_count": 58,
   "metadata": {},
   "outputs": [],
   "source": [
    "x2w2._backward()"
   ]
  },
  {
   "cell_type": "code",
   "execution_count": 60,
   "metadata": {},
   "outputs": [
    {
     "data": {
      "text/plain": [
       "[Value(data=-3.0),\n",
       " Value(data=2.0),\n",
       " Value(data=-6.0),\n",
       " Value(data=0.0),\n",
       " Value(data=1.0),\n",
       " Value(data=0.0),\n",
       " Value(data=-6.0),\n",
       " Value(data=6.881373587019543),\n",
       " Value(data=0.8813735870195432),\n",
       " Value(data=0.7071067811865476)]"
      ]
     },
     "execution_count": 60,
     "metadata": {},
     "output_type": "execute_result"
    }
   ],
   "source": []
  },
  {
   "cell_type": "code",
   "execution_count": null,
   "metadata": {},
   "outputs": [],
   "source": []
  }
 ],
 "metadata": {
  "kernelspec": {
   "display_name": "maybe-micrograd",
   "language": "python",
   "name": "python3"
  },
  "language_info": {
   "codemirror_mode": {
    "name": "ipython",
    "version": 3
   },
   "file_extension": ".py",
   "mimetype": "text/x-python",
   "name": "python",
   "nbconvert_exporter": "python",
   "pygments_lexer": "ipython3",
   "version": "3.11.7"
  }
 },
 "nbformat": 4,
 "nbformat_minor": 2
}
